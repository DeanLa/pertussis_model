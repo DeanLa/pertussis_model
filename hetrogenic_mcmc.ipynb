{
 "cells": [
  {
   "cell_type": "code",
   "execution_count": null,
   "metadata": {
    "collapsed": false
   },
   "outputs": [],
   "source": [
    "sys.path.insert(0,'C:\\\\Users\\\\Dean\\\\Dropbox\\\\Dean\\\\_Study\\\\_Thesis\\\\1Code\\\\pertussis\\\\pertussis')"
   ]
  },
  {
   "cell_type": "code",
   "execution_count": 1,
   "metadata": {
    "collapsed": false
   },
   "outputs": [],
   "source": [
    "import numpy as np\n",
    "import matplotlib.pyplot as plt\n",
    "import pymc as pm\n",
    "from scipy.integrate import odeint\n",
    "from time import clock, sleep\n",
    "from pprint import pprint\n",
    "from oof import *\n",
    "# %aimport pertussis\n",
    "# %load_ext autoreload\n",
    "# %autoreload 2\n",
    "# from pertussis import *"
   ]
  },
  {
   "cell_type": "code",
   "execution_count": 3,
   "metadata": {
    "collapsed": false
   },
   "outputs": [
    {
     "name": "stdout",
     "output_type": "stream",
     "text": [
      "aaasasdasst\n",
      "2\n"
     ]
    }
   ],
   "source": [
    "check()"
   ]
  },
  {
   "cell_type": "code",
   "execution_count": null,
   "metadata": {
    "collapsed": true
   },
   "outputs": [],
   "source": [
    "# # Initial Parameters\n",
    "t_start = 1948\n",
    "t_end = 2015\n",
    "step = 1 / N\n",
    "# t_start = expand_time(t_start, step=step)\n",
    "t_end = expand_time(t_end, step=step)\n",
    "t_range = np.arange(t_start, t_end + 0, 1)\n",
    "\n",
    "# # Data\n",
    "data = np.genfromtxt('./data/yearly.csv', delimiter=',', skip_header=1)[:, 1]\n",
    "data /= 100000\n",
    "years = np.genfromtxt('./data/yearly.csv', delimiter=',', skip_header=1)[:, 0]"
   ]
  },
  {
   "cell_type": "code",
   "execution_count": null,
   "metadata": {
    "collapsed": true
   },
   "outputs": [],
   "source": [
    "###### Run Model\n",
    "i0 = pm.Uniform(\"Is0\", 0, 0.1)\n",
    "s0 = pm.Uniform(\"S0\", 0.1, 1-i0)\n",
    "# State 0\n",
    "@pm.deterministic\n",
    "def state_0(S0=s0, Is0=i0):\n",
    "    state_0 = collect_state0()\n",
    "    state_0 = pack_flat(state_0)\n",
    "sleep(0.01)  # makes prints clearer\n",
    "# Priors\n",
    "# m1 = pm.Uniform('m1', 0, 1, value=0.1)\n",
    "o = pm.Uniform('omega', 3, 6, value=4)\n",
    "p = pm.Uniform('phi', 0, o + 0.1, value=2)\n",
    "f1 = pm.Uniform('f1', 0, 1)\n",
    "f2 = pm.Uniform('f2', 0, 1)\n",
    "f3 = pm.Uniform('f3', 0, 1)\n",
    "\n",
    "\n",
    "@pm.deterministic\n",
    "def f(f1=f1, f2=f2, f3=f3):\n",
    "    s1, s2 = 5, 5\n",
    "    s3 = J - s1 - s2\n",
    "    return np.concatenate((f1 * np.ones(s1),\n",
    "                           f2 * np.ones(s2),\n",
    "                           f3 * np.ones(s3)))\n",
    "\n",
    "\n",
    "times = []\n",
    "\n",
    "\n",
    "@pm.deterministic\n",
    "def sim(o=o, p=p, f=f):\n",
    "    # print('A ', end=\"\")\n",
    "    clk = clock()\n",
    "    RES = odeint(hetro_model, state_0, t_range,\n",
    "                 args=(o, p, f),\n",
    "                 full_output=False)\n",
    "\n",
    "    # print (RES.shape)\n",
    "    # print(RES.sum(axis=1))\n",
    "    RES = unpack(RES.T, *unpack_values)\n",
    "    # print (RES[3].shape)\n",
    "    res = reduce_year(RES[3].sum(axis=0))[1951 - t_start:2014 - t_start]\n",
    "    # print (res.shape)\n",
    "    print(clock() - clk)\n",
    "    times.append(clock() - clk)\n",
    "    return res\n",
    "\n",
    "\n",
    "Y = pm.Normal('Y', mu=sim, tau=1, observed=True, value=data)\n",
    "\n",
    "model = pm.Model([Y, o, p, sim, f, f1, f2, f3])\n",
    "mcmc = pm.MCMC(model, db=\"ram\")\n",
    "mcmc.sample(iter=4000, burn=0)\n",
    "times = np.array(times)\n",
    "print ()\n",
    "print(times.min(), times.mean(), times.max())\n",
    "# print (mcmc.summary())\n",
    "m_f = mcmc.trace('f')[:].mean()\n",
    "m_o = mcmc.trace('omega')[:].mean()\n",
    "m_p = mcmc.trace('phi')[:].mean()\n",
    "\n",
    "clk = clock()\n",
    "RES = odeint(hetro_model, state_0, t_range,\n",
    "             args=(m_o, m_p, m_f))\n",
    "print(clock() - clk)\n",
    "# # Results\n",
    "x = reduce_time(t_range, start=t_start, step=step)\n",
    "y = unpack(RES.T, *unpack_values)\n",
    "h = sum([i for i in y[:3]])\n",
    "all = sum([i for i in y])\n",
    "y.append(h)\n",
    "y.append(all)\n",
    "\n",
    "# fig1, ax1 = draw_model(x, y[3:], [\"Infected Is\", \"Infected Ia\", \"Recovered\", \"Healthy\", \"All\"], split=0, collapse=False)\n",
    "fig3, ax3 = draw_model(x, y[3:], [\"Infected Is\", \"Infected Ia\", \"Recovered\", \"Healthy\", \"All\"], split=0, collapse=True)\n",
    "fig2, ax2 = draw_model(x, y[0:3], [\"Susceptible\", \"Vaccinated ap\", \"Vaccinated wp\"], split=False, collapse=True)\n",
    "ax3[0].scatter(years, data)\n",
    "fig4, ax4 = plot_stoch_vars(mcmc)\n",
    "fig4.savefig('./img/mcmc{}.png'.format(clk))\n",
    "# fig,ax = plt.subplots()\n",
    "# ax.plot(x[20000:-1], y[3][20000:-1])\n",
    "plt.tight_layout()\n",
    "# plt.show()"
   ]
  }
 ],
 "metadata": {
  "kernelspec": {
   "display_name": "Python 3",
   "language": "python",
   "name": "python3"
  },
  "language_info": {
   "codemirror_mode": {
    "name": "ipython",
    "version": 3.0
   },
   "file_extension": ".py",
   "mimetype": "text/x-python",
   "name": "python",
   "nbconvert_exporter": "python",
   "pygments_lexer": "ipython3",
   "version": "3.5.1"
  }
 },
 "nbformat": 4,
 "nbformat_minor": 0
}