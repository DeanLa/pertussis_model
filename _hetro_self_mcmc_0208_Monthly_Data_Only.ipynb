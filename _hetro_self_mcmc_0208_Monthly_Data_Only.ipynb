{
 "cells": [
  {
   "cell_type": "code",
   "execution_count": 1,
   "metadata": {
    "ExecuteTime": {
     "end_time": "2017-10-31T07:54:53.599962Z",
     "start_time": "2017-10-31T07:54:51.223257Z"
    },
    "init_cell": true
   },
   "outputs": [
    {
     "name": "stdout",
     "output_type": "stream",
     "text": [
      "2017-10-31-07-54-52.log\n"
     ]
    }
   ],
   "source": [
    "import numpy as np\n",
    "import numpy.ma as ma\n",
    "import matplotlib.pyplot as plt\n",
    "# from time import clock, sleep\n",
    "# from datetime import datetime as dt\n",
    "from scipy.stats import norm, uniform, multivariate_normal as multinorm\n",
    "from tqdm import tqdm\n",
    "%load_ext autoreload\n",
    "%autoreload 2\n",
    "np.set_printoptions(edgeitems=10, linewidth=120, suppress=True, precision=16)\n",
    "from scipy.stats import gaussian_kde as kde\n",
    "\n",
    "from pertussis import *"
   ]
  },
  {
   "cell_type": "code",
   "execution_count": 2,
   "metadata": {
    "ExecuteTime": {
     "end_time": "2017-10-31T07:54:53.728045Z",
     "start_time": "2017-10-31T07:54:53.601963Z"
    },
    "init_cell": true
   },
   "outputs": [
    {
     "name": "stdout",
     "output_type": "stream",
     "text": [
      "(192,) (3, 192)\n"
     ]
    }
   ],
   "source": [
    "# logger.setLevel(logging.WARNING)\n",
    "\n",
    "# Initial\n",
    "r_start = 1929\n",
    "r_end = 2014\n",
    "step = 1 / N\n",
    "\n",
    "# Data\n",
    "data_M, months = cases_monthly()\n",
    "# data_M = ma.array(data_M)\n",
    "# data_M[data_M > 150] = 150 #ma.masked\n",
    "state_0 = collect_state0()"
   ]
  },
  {
   "cell_type": "markdown",
   "metadata": {},
   "source": [
    "# Make Model"
   ]
  },
  {
   "cell_type": "markdown",
   "metadata": {
    "scrolled": false
   },
   "source": [
    "## Distributions"
   ]
  },
  {
   "cell_type": "code",
   "execution_count": 3,
   "metadata": {
    "ExecuteTime": {
     "end_time": "2017-10-31T07:54:53.828139Z",
     "start_time": "2017-10-31T07:54:53.729046Z"
    },
    "collapsed": true,
    "init_cell": true
   },
   "outputs": [],
   "source": [
    "dist_om = uniform(3.5,1)\n",
    "dist_phi = uniform(0, 2 * np.pi)\n",
    "dist_rho = uniform(1, 99)\n",
    "dist_f   = uniform(0.00, 0.5)\n",
    "dist_e   = uniform(0.5,0.5)\n",
    "dists = [dist_om, dist_phi, dist_rho, dist_f, dist_f, dist_f, dist_e]\n",
    "# dists = [dist_om, dist_phi, dist_f, dist_f, dist_f, dist_f, dist_e]"
   ]
  },
  {
   "cell_type": "markdown",
   "metadata": {},
   "source": [
    "## Build MCMC\n",
    "### Initialize or Load"
   ]
  },
  {
   "cell_type": "code",
   "execution_count": 5,
   "metadata": {
    "ExecuteTime": {
     "end_time": "2017-10-31T07:53:08.106463Z",
     "start_time": "2017-10-31T07:53:07.940351Z"
    }
   },
   "outputs": [
    {
     "name": "stdout",
     "output_type": "stream",
     "text": [
      "./\n"
     ]
    }
   ],
   "source": [
    "# Load\n",
    "vers = 'chains/1030'\n",
    "vers = ''\n",
    "print ('./' + vers)\n",
    "mcmcs = [load_mcmc('./' + vers + 'mcmc_{}.pkl'.format(i)) for i in range(3)]\n",
    "mcmcs[1]['active'] = False"
   ]
  },
  {
   "cell_type": "code",
   "execution_count": 8,
   "metadata": {
    "ExecuteTime": {
     "end_time": "2017-10-31T07:53:35.111468Z",
     "start_time": "2017-10-31T07:53:35.016404Z"
    }
   },
   "outputs": [
    {
     "data": {
      "text/plain": [
       "2205"
      ]
     },
     "execution_count": 8,
     "metadata": {},
     "output_type": "execute_result"
    }
   ],
   "source": [
    "len(mcmcs[1]['chain'])"
   ]
  },
  {
   "cell_type": "code",
   "execution_count": 4,
   "metadata": {
    "ExecuteTime": {
     "end_time": "2017-10-31T07:54:53.929179Z",
     "start_time": "2017-10-31T07:54:53.830113Z"
    },
    "collapsed": true,
    "init_cell": true
   },
   "outputs": [],
   "source": [
    "#6,6,7\n",
    "extra_params = dict (cov = np.diag((0.2, np.pi / 10, 0.2, 5e-6, 5e-6, 5e-6)),\n",
    "                    datax=data_M,\n",
    "                    dists=dists,\n",
    "                    names = ['omega','phi','rho','f1','f2','f3'], \n",
    "                    datay = months,\n",
    "                    active_params = [1,3,4,5],\n",
    "                    sigma = 50)"
   ]
  },
  {
   "cell_type": "code",
   "execution_count": 5,
   "metadata": {
    "ExecuteTime": {
     "end_time": "2017-10-31T07:55:02.753029Z",
     "start_time": "2017-10-31T07:54:53.930180Z"
    },
    "init_cell": true
   },
   "outputs": [
    {
     "name": "stdout",
     "output_type": "stream",
     "text": [
      "[ 1.45    0.0008  0.0004  0.0001] (3.9805, 1.45, 50, 0.0008, 0.0004, 7e-05)\n",
      "[ 3.1416  0.001   0.0013  0.0001] (3.9805, 3.141592653589793, 50, 0.001, 0.00125, 8e-05)\n",
      "[ 2.8256  0.0012  0.0003  0.0001] (3.9805, 2.8256, 50, 0.0012, 0.0003, 0.0001)\n",
      "[ 1.5708  0.009   0.0005  0.0001] (3.9805, 1.5707963267948966, 50, 0.009, 0.0005, 6e-05)\n"
     ]
    }
   ],
   "source": [
    "# Initialize\n",
    "np.random.seed(314)\n",
    "# om, phi, rho, f1, f2, f3, e =  3.9805, 1.448521980511,  50,   0.000834353366,   0.000422725519,   0.000069343251, 1\n",
    "om, phi, rho, f1, f2, f3, e =  3.9805, 1.45,  50,   0.0008,   0.0004,   0.00007, 1\n",
    "mcmc0 = init_mcmc('mcmc_0', state_0, r_start, r_end, om, phi, rho, f1, f2, f3,\n",
    "                 **extra_params)\n",
    "\n",
    "om, phi, rho, f1, f2, f3, e = 3.9805,   np.pi,  50,   0.0010,   0.00125,   0.00008,   1\n",
    "mcmc1 = init_mcmc('mcmc_1', state_0, r_start, r_end, om, phi, rho, f1, f2, f3, \n",
    "                 **extra_params)\n",
    "\n",
    "om, phi, rho, f1, f2, f3, e =  3.9805, 2.8256, 50,  0.0012, 0.0003, 0.0001, 1\n",
    "mcmc2 = init_mcmc('mcmc_2', state_0, r_start, r_end, om, phi, rho, f1, f2, f3, \n",
    "                 **extra_params)\n",
    "\n",
    "om, phi, rho, f1, f2, f3, e =  3.9805, np.pi / 2, 50,  0.009, 0.0005, 0.00006, 1\n",
    "mcmc3 = init_mcmc('mcmc_3', state_0, r_start, r_end, om, phi, rho, f1, f2, f3, \n",
    "                 **extra_params)\n",
    "\n",
    "mcmcs = [mcmc0, mcmc1, mcmc2, mcmc3]"
   ]
  },
  {
   "cell_type": "code",
   "execution_count": 6,
   "metadata": {
    "ExecuteTime": {
     "end_time": "2017-10-30T23:02:32.369770Z",
     "start_time": "2017-10-30T23:02:32.277710Z"
    }
   },
   "outputs": [
    {
     "name": "stdout",
     "output_type": "stream",
     "text": [
      "[[ 0.3141592653589793  0.                  0.                  0.                ]\n",
      " [ 0.                  0.000005            0.                  0.                ]\n",
      " [ 0.                  0.                  0.000005            0.                ]\n",
      " [ 0.                  0.                  0.                  0.000005          ]]\n",
      "(4, 4)\n",
      "(4,)\n",
      "[  3.9805000000000001   1.45                50.                   0.0008               0.0004               0.00007           ]\n",
      "0.0\n"
     ]
    }
   ],
   "source": [
    "mcmc0 = mcmcs[0]\n",
    "np.set_printoptions(edgeitems=10, linewidth=120, suppress=True, precision=16)\n",
    "# print(mcmc0['active_params'])\n",
    "# type(mcmc0['cov'])\n",
    "print (mcmc0['cov'])\n",
    "print (mcmc0['cov'].shape)\n",
    "print (mcmc0['chain'].shape)\n",
    "print (mcmc0['initial_guess'])\n",
    "print (mcmc0['gelman_rubin'][-1])"
   ]
  },
  {
   "cell_type": "code",
   "execution_count": 6,
   "metadata": {
    "ExecuteTime": {
     "end_time": "2017-10-31T07:55:02.843085Z",
     "start_time": "2017-10-31T07:55:02.754025Z"
    },
    "init_cell": true
   },
   "outputs": [
    {
     "data": {
      "text/plain": [
       "True"
      ]
     },
     "execution_count": 6,
     "metadata": {},
     "output_type": "execute_result"
    }
   ],
   "source": [
    "for mc in mcmcs[0:]:\n",
    "    mc['active'] = True \n",
    "all([mc['active'] for mc in mcmcs])"
   ]
  },
  {
   "cell_type": "code",
   "execution_count": 7,
   "metadata": {
    "ExecuteTime": {
     "end_time": "2017-10-31T07:55:02.937332Z",
     "start_time": "2017-10-31T07:55:02.844086Z"
    },
    "collapsed": true,
    "init_cell": true
   },
   "outputs": [],
   "source": [
    "logger.setLevel(logging.INFO)"
   ]
  },
  {
   "cell_type": "markdown",
   "metadata": {},
   "source": [
    "### Loop"
   ]
  },
  {
   "cell_type": "code",
   "execution_count": 9,
   "metadata": {
    "ExecuteTime": {
     "end_time": "2017-10-31T19:29:05.716000Z",
     "start_time": "2017-10-31T07:57:29.191929Z"
    },
    "scrolled": false
   },
   "outputs": [
    {
     "name": "stderr",
     "output_type": "stream",
     "text": [
      "  5%|▍         | 247/4999 [11:41<3:52:44,  2.94s/it]"
     ]
    },
    {
     "name": "stdout",
     "output_type": "stream",
     "text": [
      "Gelman Rubin\n"
     ]
    },
    {
     "name": "stderr",
     "output_type": "stream",
     "text": [
      " 10%|▉         | 499/4999 [27:11<5:40:06,  4.53s/it]"
     ]
    },
    {
     "name": "stdout",
     "output_type": "stream",
     "text": [
      "Gelman Rubin\n"
     ]
    },
    {
     "name": "stderr",
     "output_type": "stream",
     "text": [
      " 15%|█▍        | 748/4999 [47:58<5:22:11,  4.55s/it] "
     ]
    },
    {
     "name": "stdout",
     "output_type": "stream",
     "text": [
      "Gelman Rubin\n"
     ]
    },
    {
     "name": "stderr",
     "output_type": "stream",
     "text": [
      " 20%|█▉        | 999/4999 [1:13:41<4:43:04,  4.25s/it] "
     ]
    },
    {
     "name": "stdout",
     "output_type": "stream",
     "text": [
      "Gelman Rubin\n"
     ]
    },
    {
     "name": "stderr",
     "output_type": "stream",
     "text": [
      " 25%|██▍       | 1249/4999 [1:53:58<9:56:40,  9.55s/it] "
     ]
    },
    {
     "name": "stdout",
     "output_type": "stream",
     "text": [
      "Gelman Rubin\n"
     ]
    },
    {
     "name": "stderr",
     "output_type": "stream",
     "text": [
      " 30%|██▉       | 1499/4999 [2:42:04<11:20:17, 11.66s/it]"
     ]
    },
    {
     "name": "stdout",
     "output_type": "stream",
     "text": [
      "Gelman Rubin\n"
     ]
    },
    {
     "name": "stderr",
     "output_type": "stream",
     "text": [
      " 35%|███▍      | 1749/4999 [3:30:40<10:30:20, 11.64s/it]"
     ]
    },
    {
     "name": "stdout",
     "output_type": "stream",
     "text": [
      "Gelman Rubin\n"
     ]
    },
    {
     "name": "stderr",
     "output_type": "stream",
     "text": [
      " 40%|███▉      | 1999/4999 [4:19:40<10:10:34, 12.21s/it]"
     ]
    },
    {
     "name": "stdout",
     "output_type": "stream",
     "text": [
      "Gelman Rubin\n"
     ]
    },
    {
     "name": "stderr",
     "output_type": "stream",
     "text": [
      " 45%|████▍     | 2249/4999 [5:09:05<9:06:28, 11.92s/it] "
     ]
    },
    {
     "name": "stdout",
     "output_type": "stream",
     "text": [
      "Gelman Rubin\n"
     ]
    },
    {
     "name": "stderr",
     "output_type": "stream",
     "text": [
      " 50%|████▉     | 2499/4999 [5:58:11<8:13:01, 11.83s/it]"
     ]
    },
    {
     "name": "stdout",
     "output_type": "stream",
     "text": [
      "Gelman Rubin\n"
     ]
    },
    {
     "name": "stderr",
     "output_type": "stream",
     "text": [
      " 55%|█████▍    | 2749/4999 [6:47:04<7:17:23, 11.66s/it]"
     ]
    },
    {
     "name": "stdout",
     "output_type": "stream",
     "text": [
      "Gelman Rubin\n"
     ]
    },
    {
     "name": "stderr",
     "output_type": "stream",
     "text": [
      " 60%|█████▉    | 2999/4999 [7:35:50<6:31:47, 11.75s/it]"
     ]
    },
    {
     "name": "stdout",
     "output_type": "stream",
     "text": [
      "Gelman Rubin\n"
     ]
    },
    {
     "name": "stderr",
     "output_type": "stream",
     "text": [
      " 65%|██████▍   | 3249/4999 [8:25:15<5:45:43, 11.85s/it]"
     ]
    },
    {
     "name": "stdout",
     "output_type": "stream",
     "text": [
      "Gelman Rubin\n",
      "[ 1.08273693  1.04740052  1.03894409  1.05224912]\n",
      "Shutting off mcmc_3\n"
     ]
    },
    {
     "name": "stderr",
     "output_type": "stream",
     "text": [
      " 70%|██████▉   | 3499/4999 [9:02:26<3:37:36,  8.70s/it]"
     ]
    },
    {
     "name": "stdout",
     "output_type": "stream",
     "text": [
      "Gelman Rubin\n",
      "Singular COV at 3500 mcmc_2\n",
      "singular matrix\n",
      "mcmc_2 TUNRED OFF 3500\n"
     ]
    },
    {
     "name": "stderr",
     "output_type": "stream",
     "text": [
      " 75%|███████▍  | 3749/4999 [9:27:05<2:06:30,  6.07s/it]"
     ]
    },
    {
     "name": "stdout",
     "output_type": "stream",
     "text": [
      "Gelman Rubin\n"
     ]
    },
    {
     "name": "stderr",
     "output_type": "stream",
     "text": [
      " 80%|███████▉  | 3999/4999 [9:51:57<1:39:00,  5.94s/it]"
     ]
    },
    {
     "name": "stdout",
     "output_type": "stream",
     "text": [
      "Gelman Rubin\n"
     ]
    },
    {
     "name": "stderr",
     "output_type": "stream",
     "text": [
      " 85%|████████▍ | 4249/4999 [10:17:13<1:14:54,  5.99s/it]"
     ]
    },
    {
     "name": "stdout",
     "output_type": "stream",
     "text": [
      "Gelman Rubin\n"
     ]
    },
    {
     "name": "stderr",
     "output_type": "stream",
     "text": [
      " 90%|████████▉ | 4499/4999 [10:41:48<49:57,  5.99s/it]  "
     ]
    },
    {
     "name": "stdout",
     "output_type": "stream",
     "text": [
      "Gelman Rubin\n"
     ]
    },
    {
     "name": "stderr",
     "output_type": "stream",
     "text": [
      " 95%|█████████▍| 4749/4999 [11:06:41<24:33,  5.89s/it]"
     ]
    },
    {
     "name": "stdout",
     "output_type": "stream",
     "text": [
      "Gelman Rubin\n"
     ]
    },
    {
     "name": "stderr",
     "output_type": "stream",
     "text": [
      "100%|██████████| 4999/4999 [11:31:35<00:00,  6.04s/it]\n"
     ]
    }
   ],
   "source": [
    "np.set_printoptions(edgeitems=10, linewidth=120, suppress=True, precision=8)\n",
    "iterations = 5000\n",
    "j=0\n",
    "recalculate = 250\n",
    "sd_stop_after = 5000\n",
    "scaling_stop_after = 5000\n",
    "do_gelman_rubin = True\n",
    "\n",
    "for iteration in tqdm(range(1, iterations)):\n",
    "    logger.info('-'*20 + ' '*10 + 'Iteration {} '.format(len(mcmcs[0]['accepted'])) + ' '*10 + '-'*30)\n",
    "    # Every few iterations, some global changes need to be done.\n",
    "    test_condition = len(mcmcs[0]['chain']) % recalculate == 0 ## When to test\n",
    "    \n",
    "    # Compute gelman rubin\n",
    "    if test_condition and do_gelman_rubin:\n",
    "        if sum([mc['active'] for mc in mcmcs]) > 1:\n",
    "            print (\"Gelman Rubin\")\n",
    "            gr_curr = gelman_rubin(make_chains(mcmcs))\n",
    "            mcmcs[0]['gelman_rubin'] = np.vstack((mcmcs[0]['gelman_rubin'], gr_curr))\n",
    "            if np.all(gr_curr < 1.1):\n",
    "                mcmcs[0]['gr_where'] = iterations\n",
    "                print (\"Gelman Rubin Converged \" + str(iteration))\n",
    "                for mc in mcmcs[1:]:\n",
    "                    mc['active'] = False\n",
    "                sd_stop_after = 0\n",
    "                scaling_stop_after = 0\n",
    "                do_gelman_rubin = False\n",
    "            if len(mcmcs[0]['chain']) > 2000:\n",
    "                for gri in range(len(mcmcs)-1):\n",
    "                    for grj in range (gri+1, len(mcmcs)):\n",
    "                        if (mcmcs[gri]['active']) and (mcmcs[grj]['active']):\n",
    "                        grtmp = gelman_rubin(make_chains([mcmcs[gri],mcmcs[grj]]))\n",
    "                        if all(grtmp < 1.1):\n",
    "                            mcmcs[grj]['active'] = False\n",
    "                            save_mcmc(mcmcs[grj])\n",
    "                            print (\"Shutting off {} by {}\".format(mcmcs[grj]['name'],mcmcs[gri]['name']))\n",
    "                            print (grtmp)\n",
    "                            \n",
    "    \n",
    "    compute_new_sd = len(mcmcs[0]['chain']) < sd_stop_after\n",
    "    compute_scaling_factor = len(mcmcs[0]['chain']) < scaling_stop_after            \n",
    "        \n",
    "        \n",
    "    for mcmc in mcmcs:\n",
    "        if not (mcmc['active']): # When G-R converges, stop running all but one. -conition on GRB\n",
    "            continue\n",
    "        logger.info('*** Chain {}'.format(mcmc['name']) + '-'*15)\n",
    "        \n",
    "        # Save Chain\n",
    "        if len(mcmc['chain']) % 50 == 5:\n",
    "            save_mcmc(mcmc)\n",
    "        if test_condition:\n",
    "            # acceptance rate\n",
    "            accept_star = np.mean(mcmc['accepted'][-recalculate:])\n",
    "            mcmc['rates'] = np.append(mcmc['rates'], accept_star)\n",
    "            # new scaling factor - pg. 24\n",
    "            if compute_scaling_factor:\n",
    "                new_scaling_factor = mcmc['scaling_factor'][-1]\n",
    "#                 new_scaling_factor *= np.e ** ((accept_star - mcmc['accept_hat']) / len(mcmc['scaling_factor']))\n",
    "                new_scaling_factor *= np.e ** (accept_star - mcmc['accept_hat'])\n",
    "                mcmc['scaling_factor'] = np.append(mcmc['scaling_factor'], new_scaling_factor)\n",
    "            else:\n",
    "                new_scaling_factor = 1\n",
    "            # new cov pg. 24            \n",
    "            if compute_new_sd:\n",
    "                new_cov_tmp = mcmc['cov']\n",
    "                try:\n",
    "                    sigma_star = np.cov(mcmc['chain'][-recalculate:,:].T)\n",
    "                    new_cov = mcmc['cov'].copy() * 0.25 + 0.75 * sigma_star\n",
    "                    proposed = multinorm(mcmc['values'], new_cov * new_scaling_factor**2)\n",
    "                    mcmc['cov'] = new_cov\n",
    "                except:\n",
    "                    print (\"Singular COV at\", len(mcmc['accepted']),mcmc['name'])\n",
    "                    mcmc['cov'] = new_cov_tmp        \n",
    "            mcmc['sd'] = new_scaling_factor ** 2 * mcmc['cov']\n",
    "\n",
    "        # Current Stats\n",
    "        ll_now = log_liklihood(mcmc['y_now_M'], data_M, mcmc['sigma'])\n",
    "        \n",
    "        # Pick new set\n",
    "        try:\n",
    "            proposed = multinorm(mcmc['values'], mcmc['sd']) # Try new set ***************************************\n",
    "        except Exception as e:\n",
    "            print (e)\n",
    "            print (mcmc['name'], \"TUNRED OFF\", len(mcmc['accepted']))\n",
    "            mcmc['active'] = False\n",
    "        guess = proposed.rvs()\n",
    "        g = mcmc['initial_guess']\n",
    "        g[mcmc['active_params']] = guess\n",
    "        # Check if possible set\n",
    "        g[1] %= 2 * np.pi # Phi is special case #CHANGE THIS IF OMEGA NOT INCLUDED/NOT\n",
    "        test = [dists[dist].pdf(guess[i]) <= 0 for i, dist in enumerate(mcmc['active_params'])]\n",
    "        logger.info(str(g))\n",
    "        if any(test): # If test fails, LL is -inf\n",
    "            logger.error('Bad prior at model {}\\n{}\\n{}'.format(mcmc['name'],guess,test))\n",
    "            ll_star = -np.inf\n",
    "            y_star_M, state_z = -np.inf * np.ones((3,192)), -np.inf * np.ones(270)\n",
    "        else: # We can carry on with MCMC\n",
    "            try:\n",
    "                y_star_M, state_z = run_model(state_0, r_start, r_end, *g, e=1, r_0 = 40) #RUN MODEL =============================================\n",
    "#                 logger.info(str(y_star_M))\n",
    "                ll_star = log_liklihood(y_star_M, data_M, mcmc['sigma'])\n",
    "                logger.info(str(ll_star))\n",
    "                if ll_star<-99999: # Something bad happend BY DESIGN at model\n",
    "                    logger.warning('bad set for model {} with guess {}'.format(mcmc['name'], iteration))\n",
    "            except:\n",
    "                logger.error('exception at model {} PROBABLY S-I-R fail'.format(mcmc['name']))\n",
    "                ll_star = -np.inf\n",
    "            \n",
    "        \n",
    "        # when possible, run model\n",
    "        log_r = ll_star - ll_now \n",
    "        draw = np.random.rand()\n",
    "        \n",
    "        if log_r > np.log(draw):\n",
    "            mcmc['values'] = guess.copy()\n",
    "            mcmc['accepted'] = np.append(mcmc['accepted'], 1)\n",
    "            mcmc['y_now_M'] = y_star_M\n",
    "        else:\n",
    "            mcmc['accepted'] = np.append(mcmc['accepted'], 0)\n",
    "\n",
    "        # Update \n",
    "        mcmc['chain'] = np.vstack((mcmc['chain'], mcmc['values']))\n",
    "        mcmc['guesses'] = np.vstack((mcmc['guesses'], guess))\n",
    "        mcmc['y_hat_M'] = np.concatenate((mcmc['y_hat_M'], y_star_M[None,:,:]), axis=0)\n",
    "        mcmc['max_likelihood'] = np.max((mcmc['max_likelihood'], ll_now))\n",
    "        mcmc['ll'] = np.vstack((mcmc['ll'],np.array([ll_now, ll_star])))\n",
    "        mcmc['state_z'] = np.vstack((mcmc['state_z'],state_z))"
   ]
  },
  {
   "cell_type": "code",
   "execution_count": 32,
   "metadata": {
    "ExecuteTime": {
     "end_time": "2017-10-31T07:49:34.450797Z",
     "start_time": "2017-10-31T07:49:34.350732Z"
    }
   },
   "outputs": [
    {
     "data": {
      "text/plain": [
       "4"
      ]
     },
     "execution_count": 32,
     "metadata": {},
     "output_type": "execute_result"
    }
   ],
   "source": [
    "sum([mc['active'] for mc in mcmcs])"
   ]
  },
  {
   "cell_type": "markdown",
   "metadata": {},
   "source": [
    "#### Progress Bar"
   ]
  },
  {
   "cell_type": "code",
   "execution_count": 10,
   "metadata": {
    "ExecuteTime": {
     "end_time": "2017-10-31T22:31:14.817679Z",
     "start_time": "2017-10-31T22:31:13.030360Z"
    }
   },
   "outputs": [
    {
     "data": {
      "text/plain": [
       "[None, None, None, None]"
      ]
     },
     "execution_count": 10,
     "metadata": {},
     "output_type": "execute_result"
    }
   ],
   "source": [
    "save_vers = '1031-4-chains'\n",
    "[save_mcmc(mc, './chains/' + save_vers) for mc in mcmcs ]\n",
    "# ;"
   ]
  },
  {
   "cell_type": "code",
   "execution_count": 21,
   "metadata": {},
   "outputs": [
    {
     "data": {
      "text/plain": [
       "(15001, 7)"
      ]
     },
     "execution_count": 21,
     "metadata": {},
     "output_type": "execute_result"
    }
   ],
   "source": [
    "mcmc['chain'].shape"
   ]
  },
  {
   "cell_type": "code",
   "execution_count": 19,
   "metadata": {
    "collapsed": true
   },
   "outputs": [],
   "source": [
    "# mcmc['cov'] -= 0.75 * sigma_star\n",
    "# mcmc['cov'] *= 4\n",
    "mcmc['active'] = True"
   ]
  },
  {
   "cell_type": "code",
   "execution_count": 32,
   "metadata": {},
   "outputs": [
    {
     "name": "stdout",
     "output_type": "stream",
     "text": [
      "[False, False, False, False, False, True, False]\n",
      "[  4.0674   1.4571  15.2243   0.001    0.0021  -0.0004   0.9729]\n"
     ]
    }
   ],
   "source": [
    "            print (test)\n",
    "            print (guess)"
   ]
  },
  {
   "cell_type": "code",
   "execution_count": 12,
   "metadata": {
    "ExecuteTime": {
     "end_time": "2017-06-10T19:51:44.793777Z",
     "start_time": "2017-06-10T19:51:44.691087Z"
    }
   },
   "outputs": [
    {
     "data": {
      "text/plain": [
       "array([[-inf, -inf, -inf, -inf, -inf, -inf, -inf, -inf, -inf, -inf, ..., -inf,\n",
       "        -inf, -inf, -inf, -inf, -inf, -inf, -inf, -inf, -inf],\n",
       "       [-inf, -inf, -inf, -inf, -inf, -inf, -inf, -inf, -inf, -inf, ..., -inf,\n",
       "        -inf, -inf, -inf, -inf, -inf, -inf, -inf, -inf, -inf],\n",
       "       [-inf, -inf, -inf, -inf, -inf, -inf, -inf, -inf, -inf, -inf, ..., -inf,\n",
       "        -inf, -inf, -inf, -inf, -inf, -inf, -inf, -inf, -inf],\n",
       "       [-inf, -inf, -inf, -inf, -inf, -inf, -inf, -inf, -inf, -inf, ..., -inf,\n",
       "        -inf, -inf, -inf, -inf, -inf, -inf, -inf, -inf, -inf],\n",
       "       [-inf, -inf, -inf, -inf, -inf, -inf, -inf, -inf, -inf, -inf, ..., -inf,\n",
       "        -inf, -inf, -inf, -inf, -inf, -inf, -inf, -inf, -inf],\n",
       "       [-inf, -inf, -inf, -inf, -inf, -inf, -inf, -inf, -inf, -inf, ..., -inf,\n",
       "        -inf, -inf, -inf, -inf, -inf, -inf, -inf, -inf, -inf],\n",
       "       [-inf, -inf, -inf, -inf, -inf, -inf, -inf, -inf, -inf, -inf, ..., -inf,\n",
       "        -inf, -inf, -inf, -inf, -inf, -inf, -inf, -inf, -inf],\n",
       "       [-inf, -inf, -inf, -inf, -inf, -inf, -inf, -inf, -inf, -inf, ..., -inf,\n",
       "        -inf, -inf, -inf, -inf, -inf, -inf, -inf, -inf, -inf],\n",
       "       [-inf, -inf, -inf, -inf, -inf, -inf, -inf, -inf, -inf, -inf, ..., -inf,\n",
       "        -inf, -inf, -inf, -inf, -inf, -inf, -inf, -inf, -inf],\n",
       "       [-inf, -inf, -inf, -inf, -inf, -inf, -inf, -inf, -inf, -inf, ..., -inf,\n",
       "        -inf, -inf, -inf, -inf, -inf, -inf, -inf, -inf, -inf],\n",
       "       ..., \n",
       "       [-inf, -inf, -inf, -inf, -inf, -inf, -inf, -inf, -inf, -inf, ..., -inf,\n",
       "        -inf, -inf, -inf, -inf, -inf, -inf, -inf, -inf, -inf],\n",
       "       [-inf, -inf, -inf, -inf, -inf, -inf, -inf, -inf, -inf, -inf, ..., -inf,\n",
       "        -inf, -inf, -inf, -inf, -inf, -inf, -inf, -inf, -inf],\n",
       "       [-inf, -inf, -inf, -inf, -inf, -inf, -inf, -inf, -inf, -inf, ..., -inf,\n",
       "        -inf, -inf, -inf, -inf, -inf, -inf, -inf, -inf, -inf],\n",
       "       [-inf, -inf, -inf, -inf, -inf, -inf, -inf, -inf, -inf, -inf, ..., -inf,\n",
       "        -inf, -inf, -inf, -inf, -inf, -inf, -inf, -inf, -inf],\n",
       "       [-inf, -inf, -inf, -inf, -inf, -inf, -inf, -inf, -inf, -inf, ..., -inf,\n",
       "        -inf, -inf, -inf, -inf, -inf, -inf, -inf, -inf, -inf],\n",
       "       [-inf, -inf, -inf, -inf, -inf, -inf, -inf, -inf, -inf, -inf, ..., -inf,\n",
       "        -inf, -inf, -inf, -inf, -inf, -inf, -inf, -inf, -inf],\n",
       "       [-inf, -inf, -inf, -inf, -inf, -inf, -inf, -inf, -inf, -inf, ..., -inf,\n",
       "        -inf, -inf, -inf, -inf, -inf, -inf, -inf, -inf, -inf],\n",
       "       [-inf, -inf, -inf, -inf, -inf, -inf, -inf, -inf, -inf, -inf, ..., -inf,\n",
       "        -inf, -inf, -inf, -inf, -inf, -inf, -inf, -inf, -inf],\n",
       "       [-inf, -inf, -inf, -inf, -inf, -inf, -inf, -inf, -inf, -inf, ..., -inf,\n",
       "        -inf, -inf, -inf, -inf, -inf, -inf, -inf, -inf, -inf],\n",
       "       [-inf, -inf, -inf, -inf, -inf, -inf, -inf, -inf, -inf, -inf, ..., -inf,\n",
       "        -inf, -inf, -inf, -inf, -inf, -inf, -inf, -inf, -inf]])"
      ]
     },
     "execution_count": 12,
     "metadata": {},
     "output_type": "execute_result"
    }
   ],
   "source": [
    "mcmc['state_z']"
   ]
  },
  {
   "cell_type": "code",
   "execution_count": 12,
   "metadata": {},
   "outputs": [
    {
     "data": {
      "text/plain": [
       "(27,)"
      ]
     },
     "execution_count": 12,
     "metadata": {},
     "output_type": "execute_result"
    }
   ],
   "source": [
    "state_z[0].shape"
   ]
  },
  {
   "cell_type": "code",
   "execution_count": 61,
   "metadata": {},
   "outputs": [
    {
     "data": {
      "text/plain": [
       "array([ 0.,  0.,  0.,  0.,  0.,  0.,  0.])"
      ]
     },
     "execution_count": 61,
     "metadata": {},
     "output_type": "execute_result"
    }
   ],
   "source": [
    "mcmcs[0]['gelman_rubin']# = np.zeros(mcmc['d'])\n",
    "# mcmcs[0]['ll']"
   ]
  },
  {
   "cell_type": "code",
   "execution_count": 25,
   "metadata": {},
   "outputs": [
    {
     "data": {
      "text/plain": [
       "0.23000000000000001"
      ]
     },
     "execution_count": 25,
     "metadata": {},
     "output_type": "execute_result"
    }
   ],
   "source": [
    "np.mean(mcmc0['accepted'][-500:])\n",
    "# mcmcs[0]['chain'].shape"
   ]
  },
  {
   "cell_type": "code",
   "execution_count": 11,
   "metadata": {
    "ExecuteTime": {
     "end_time": "2017-06-10T19:51:28.578480Z",
     "start_time": "2017-06-10T19:51:26.511595Z"
    }
   },
   "outputs": [
    {
     "data": {
      "image/png": "[encoded data removed]",
      "text/plain": [
       "<matplotlib.figure.Figure at 0x188f540ed30>"
      ]
     },
     "metadata": {},
     "output_type": "display_data"
    }
   ],
   "source": [
    "# gb = gelman_rubin(make_chains(mcmc))\n",
    "# print (gb)\n",
    "names = ['omega','phi','rho','f1','f2','f3']\n",
    "fig, axs = plt.subplots(len(names),2, figsize=(12,18))\n",
    "\n",
    "# axs = np.hstack(axs)\n",
    "for j, mcmc in enumerate(mcmcs[:1]):\n",
    "    chain = mcmc['chain'][:,:]\n",
    "    guess = mcmc['guesses'][:,:]\n",
    "    for i, name in enumerate(names):\n",
    "        axs[i,0].plot(chain[:,i], label = 'chain {}'.format(j))\n",
    "        axs[i,0].plot(guess[:,i], label = 'chain {}'.format(j), alpha=0.7)\n",
    "        \n",
    "        axs[i,0].set_title(name)\n",
    "\n",
    "#         density = kde(chain[:,i])\n",
    "#         xs = np.linspace(-5,5,50)\n",
    "#         axs[i,1].plot(xs,density(xs))\n",
    "\n",
    "plt.tight_layout()\n",
    "plt.show()"
   ]
  },
  {
   "cell_type": "code",
   "execution_count": 26,
   "metadata": {},
   "outputs": [
    {
     "data": {
      "text/plain": [
       "3001"
      ]
     },
     "execution_count": 26,
     "metadata": {},
     "output_type": "execute_result"
    }
   ],
   "source": [
    "len(mcmc0['chain'])"
   ]
  },
  {
   "cell_type": "code",
   "execution_count": 69,
   "metadata": {},
   "outputs": [
    {
     "ename": "NameError",
     "evalue": "name 'M_now' is not defined",
     "output_type": "error",
     "traceback": [
      "\u001b[0;31m---------------------------------------------------------------------------\u001b[0m",
      "\u001b[0;31mNameError\u001b[0m                                 Traceback (most recent call last)",
      "\u001b[0;32m<ipython-input-69-4b9bb614a2e1>\u001b[0m in \u001b[0;36m<module>\u001b[0;34m()\u001b[0m\n\u001b[1;32m      2\u001b[0m \u001b[1;31m#     plt.plot(months, line.sum(axis=0), 'k--', lw=0.1)\u001b[0m\u001b[1;33m\u001b[0m\u001b[1;33m\u001b[0m\u001b[0m\n\u001b[1;32m      3\u001b[0m \u001b[1;31m# m = mcmc['monthly'].mean(axis=0).sum(axis=0)\u001b[0m\u001b[1;33m\u001b[0m\u001b[1;33m\u001b[0m\u001b[0m\n\u001b[0;32m----> 4\u001b[0;31m \u001b[0mm\u001b[0m \u001b[1;33m=\u001b[0m \u001b[0mM_now\u001b[0m\u001b[1;33m\u001b[0m\u001b[0m\n\u001b[0m\u001b[1;32m      5\u001b[0m \u001b[1;31m# print (M_now.size)\u001b[0m\u001b[1;33m\u001b[0m\u001b[1;33m\u001b[0m\u001b[0m\n\u001b[1;32m      6\u001b[0m \u001b[0mplt\u001b[0m\u001b[1;33m.\u001b[0m\u001b[0mplot\u001b[0m\u001b[1;33m(\u001b[0m\u001b[0mmonths\u001b[0m\u001b[1;33m,\u001b[0m \u001b[0mm\u001b[0m\u001b[1;33m.\u001b[0m\u001b[0msum\u001b[0m\u001b[1;33m(\u001b[0m\u001b[0maxis\u001b[0m\u001b[1;33m=\u001b[0m\u001b[1;36m0\u001b[0m\u001b[1;33m)\u001b[0m\u001b[1;33m,\u001b[0m \u001b[1;34m'r'\u001b[0m\u001b[1;33m,\u001b[0m \u001b[0mlw\u001b[0m\u001b[1;33m=\u001b[0m\u001b[1;36m1\u001b[0m\u001b[1;33m)\u001b[0m\u001b[1;33m\u001b[0m\u001b[0m\n",
      "\u001b[0;31mNameError\u001b[0m: name 'M_now' is not defined"
     ]
    }
   ],
   "source": [
    "m = M_now\n",
    "plt.plot(months, m.sum(axis=0), 'r', lw=1)\n",
    "plt.scatter(months, data1.sum(axis=0))\n",
    "plt.show()"
   ]
  },
  {
   "cell_type": "code",
   "execution_count": 45,
   "metadata": {},
   "outputs": [
    {
     "ename": "NameError",
     "evalue": "name 'M_now' is not defined",
     "output_type": "error",
     "traceback": [
      "\u001b[0;31m---------------------------------------------------------------------------\u001b[0m",
      "\u001b[0;31mNameError\u001b[0m                                 Traceback (most recent call last)",
      "\u001b[0;32m<ipython-input-45-2740e076f31a>\u001b[0m in \u001b[0;36m<module>\u001b[0;34m()\u001b[0m\n\u001b[1;32m      1\u001b[0m \u001b[1;31m# m = mcmc['monthly'][5000:7000,:,:].mean(axis=0).sum(axis=0)\u001b[0m\u001b[1;33m\u001b[0m\u001b[1;33m\u001b[0m\u001b[0m\n\u001b[0;32m----> 2\u001b[0;31m \u001b[0mm\u001b[0m \u001b[1;33m=\u001b[0m \u001b[0mM_now\u001b[0m\u001b[1;33m.\u001b[0m\u001b[0msum\u001b[0m\u001b[1;33m(\u001b[0m\u001b[0maxis\u001b[0m\u001b[1;33m=\u001b[0m\u001b[1;36m0\u001b[0m\u001b[1;33m)\u001b[0m\u001b[1;33m\u001b[0m\u001b[0m\n\u001b[0m\u001b[1;32m      3\u001b[0m \u001b[0mplt\u001b[0m\u001b[1;33m.\u001b[0m\u001b[0mplot\u001b[0m\u001b[1;33m(\u001b[0m\u001b[0mmonths\u001b[0m\u001b[1;33m,\u001b[0m \u001b[0mm\u001b[0m\u001b[1;33m,\u001b[0m \u001b[1;34m'r'\u001b[0m\u001b[1;33m,\u001b[0m \u001b[0mlw\u001b[0m\u001b[1;33m=\u001b[0m\u001b[1;36m1\u001b[0m\u001b[1;33m)\u001b[0m\u001b[1;33m\u001b[0m\u001b[0m\n\u001b[1;32m      4\u001b[0m \u001b[0mplt\u001b[0m\u001b[1;33m.\u001b[0m\u001b[0mscatter\u001b[0m\u001b[1;33m(\u001b[0m\u001b[0mmonths\u001b[0m\u001b[1;33m,\u001b[0m \u001b[0mdata1\u001b[0m\u001b[1;33m.\u001b[0m\u001b[0msum\u001b[0m\u001b[1;33m(\u001b[0m\u001b[0maxis\u001b[0m\u001b[1;33m=\u001b[0m\u001b[1;36m0\u001b[0m\u001b[1;33m)\u001b[0m\u001b[1;33m)\u001b[0m\u001b[1;33m\u001b[0m\u001b[0m\n\u001b[1;32m      5\u001b[0m \u001b[1;33m\u001b[0m\u001b[0m\n",
      "\u001b[0;31mNameError\u001b[0m: name 'M_now' is not defined"
     ]
    }
   ],
   "source": [
    "# m = mcmc['monthly'][5000:7000,:,:].mean(axis=0).sum(axis=0)\n",
    "m = M_now.sum(axis=0)\n",
    "plt.plot(months, m, 'r', lw=1)\n",
    "plt.scatter(months, data1.sum(axis=0))\n",
    "\n",
    "\n",
    "# m = mcmc['yearly'][5000:7000,:].mean(axis=0)\n",
    "m = Y_now\n",
    "print (m.size)\n",
    "plt.plot(years, m/12, 'r', lw=1)\n",
    "plt.scatter(years, data2/12, c='g')\n",
    "plt.show()"
   ]
  },
  {
   "cell_type": "code",
   "execution_count": 23,
   "metadata": {},
   "outputs": [
    {
     "name": "stdout",
     "output_type": "stream",
     "text": [
      "[-1.     0.01   0.028  0.11   0.242  0.21   0.23 ]\n"
     ]
    },
    {
     "data": {
      "image/png": "[encoded data removed]",
      "text/plain": [
       "<matplotlib.figure.Figure at 0x27473f5fa58>"
      ]
     },
     "metadata": {},
     "output_type": "display_data"
    }
   ],
   "source": [
    "print (mcmc['rates'])\n",
    "plt.plot(mcmc['rates'])\n",
    "plt.show()"
   ]
  },
  {
   "cell_type": "code",
   "execution_count": 78,
   "metadata": {},
   "outputs": [
    {
     "data": {
      "text/plain": [
       "(3, 192)"
      ]
     },
     "execution_count": 78,
     "metadata": {},
     "output_type": "execute_result"
    }
   ],
   "source": [
    "mcmc0['y_now_M'].shape"
   ]
  },
  {
   "cell_type": "code",
   "execution_count": 79,
   "metadata": {
    "scrolled": false
   },
   "outputs": [
    {
     "name": "stdout",
     "output_type": "stream",
     "text": [
      "cov \n",
      " [[ 0.     -0.0001  0.      0.      0.      0.      0.    ]\n",
      " [-0.0001  0.0005 -0.0002 -0.     -0.     -0.     -0.    ]\n",
      " [ 0.     -0.0002  0.0001  0.      0.      0.      0.0001]\n",
      " [ 0.     -0.      0.      0.      0.      0.      0.    ]\n",
      " [ 0.     -0.      0.      0.      0.      0.      0.    ]\n",
      " [ 0.     -0.      0.      0.      0.      0.      0.    ]\n",
      " [ 0.     -0.      0.0001  0.      0.      0.      0.0003]] \n",
      "\n",
      "\n",
      "\n",
      "accepted \n",
      " [1 1 1 1 1 0 1 0 1 0 ..., 0 0 0 0 0 0 0 0 0 0] \n",
      "\n",
      "\n",
      "\n",
      "d \n",
      " 7 \n",
      "\n",
      "\n",
      "\n",
      "sigma \n",
      " 100 \n",
      "\n",
      "\n",
      "\n",
      "gelman_rubin \n",
      " [ 0.  0.  0.  0.  0.  0.  0.] \n",
      "\n",
      "\n",
      "\n",
      "active \n",
      " True \n",
      "\n",
      "\n",
      "\n",
      "rates \n",
      " [ 0.     0.088  0.01   0.     0.004  0.     0.002  0.004  0.002  0.002  0.01   0.004  0.018  0.008  0.008] \n",
      "\n",
      "\n",
      "\n",
      "scaling_factor \n",
      " [ 0.9071  0.787   0.7051  0.653   0.6171  0.5894  0.5674  0.5494  0.534   0.5206  0.5093  0.4989  0.4902  0.4819  0.4743] \n",
      "\n",
      "\n",
      "\n",
      "ll \n",
      " [[     -inf      -inf]\n",
      " [-275.7242 -274.7789]\n",
      " [-274.7789 -274.3413]\n",
      " [-274.3413 -274.6733]\n",
      " [-274.6733 -275.8104]\n",
      " [-275.8104 -277.863 ]\n",
      " [-275.8104 -275.8547]\n",
      " [-275.8547 -277.024 ]\n",
      " [-275.8547 -269.4547]\n",
      " [-269.4547 -271.8395]\n",
      " ..., \n",
      " [-173.0669 -181.5182]\n",
      " [-173.0669 -199.6355]\n",
      " [-173.0669 -188.5756]\n",
      " [-173.0669 -191.6949]\n",
      " [-173.0669 -214.1002]\n",
      " [-173.0669      -inf]\n",
      " [-173.0669 -189.4427]\n",
      " [-173.0669 -205.8295]\n",
      " [-173.0669      -inf]\n",
      " [-173.0669      -inf]] \n",
      "\n",
      "\n",
      "\n",
      "sd \n",
      " [[ 0.     -0.      0.      0.      0.      0.      0.    ]\n",
      " [-0.      0.0001 -0.     -0.     -0.     -0.     -0.    ]\n",
      " [ 0.     -0.      0.      0.      0.      0.      0.    ]\n",
      " [ 0.     -0.      0.      0.      0.      0.      0.    ]\n",
      " [ 0.     -0.      0.      0.      0.      0.      0.    ]\n",
      " [ 0.     -0.      0.      0.      0.      0.      0.    ]\n",
      " [ 0.     -0.      0.      0.      0.      0.      0.0001]] \n",
      "\n",
      "\n",
      "\n",
      "accept_hat \n",
      " 0.23 \n",
      "\n",
      "\n",
      "\n",
      "name \n",
      " mcmc_0 \n",
      "\n",
      "\n",
      "\n",
      "max_likelihood \n",
      " -170.895098906 \n",
      "\n",
      "\n",
      "\n",
      "values \n",
      " [ 3.9984  3.3208  0.0253  0.0027  0.001   0.0011  0.7701] \n",
      "\n",
      "\n",
      "\n",
      "7024\n"
     ]
    }
   ],
   "source": [
    "for k,v in mcmc.items():\n",
    "    if k in ['chain','monthly', 'y_now_M', 'y_hat_M']:\n",
    "        continue\n",
    "    print (k,'\\n',v,'\\n\\n\\n')\n",
    "print (mcmc['accepted'].size)"
   ]
  },
  {
   "cell_type": "markdown",
   "metadata": {},
   "source": [
    "# Plots"
   ]
  },
  {
   "cell_type": "code",
   "execution_count": 16,
   "metadata": {},
   "outputs": [
    {
     "ename": "NameError",
     "evalue": "name 'tr_mu' is not defined",
     "output_type": "error",
     "traceback": [
      "\u001b[0;31m---------------------------------------------------------------------------\u001b[0m",
      "\u001b[0;31mNameError\u001b[0m                                 Traceback (most recent call last)",
      "\u001b[0;32m<ipython-input-16-83e4cea3277a>\u001b[0m in \u001b[0;36m<module>\u001b[0;34m()\u001b[0m\n\u001b[1;32m      1\u001b[0m \u001b[1;31m# PLOT\u001b[0m\u001b[1;33m\u001b[0m\u001b[1;33m\u001b[0m\u001b[0m\n\u001b[0;32m----> 2\u001b[0;31m \u001b[0mfig\u001b[0m\u001b[1;33m,\u001b[0m \u001b[0maxs\u001b[0m \u001b[1;33m=\u001b[0m \u001b[0mmu_chart\u001b[0m\u001b[1;33m(\u001b[0m\u001b[0mtr_mu\u001b[0m \u001b[1;33m*\u001b[0m \u001b[0mm_p\u001b[0m\u001b[1;33m,\u001b[0m \u001b[0mdata1\u001b[0m\u001b[1;33m)\u001b[0m\u001b[1;33m\u001b[0m\u001b[0m\n\u001b[0m",
      "\u001b[0;31mNameError\u001b[0m: name 'tr_mu' is not defined"
     ]
    }
   ],
   "source": [
    "# PLOT\n",
    "fig, axs = mu_chart(tr_mu * m_p, data1)"
   ]
  },
  {
   "cell_type": "code",
   "execution_count": 89,
   "metadata": {},
   "outputs": [
    {
     "ename": "NameError",
     "evalue": "name 'x' is not defined",
     "output_type": "error",
     "traceback": [
      "\u001b[0;31m---------------------------------------------------------------------------\u001b[0m",
      "\u001b[0;31mNameError\u001b[0m                                 Traceback (most recent call last)",
      "\u001b[0;32m<ipython-input-89-941e33c28b87>\u001b[0m in \u001b[0;36m<module>\u001b[0;34m()\u001b[0m\n\u001b[0;32m----> 1\u001b[0;31m \u001b[0mfig1\u001b[0m\u001b[1;33m,\u001b[0m \u001b[0max1\u001b[0m \u001b[1;33m=\u001b[0m \u001b[0mdraw_model\u001b[0m\u001b[1;33m(\u001b[0m\u001b[0mx\u001b[0m\u001b[1;33m,\u001b[0m \u001b[0my\u001b[0m\u001b[1;33m[\u001b[0m\u001b[1;36m3\u001b[0m\u001b[1;33m:\u001b[0m\u001b[1;33m]\u001b[0m\u001b[1;33m,\u001b[0m \u001b[1;33m[\u001b[0m\u001b[1;34m\"Infected Is\"\u001b[0m\u001b[1;33m,\u001b[0m \u001b[1;34m\"Infected Ia\"\u001b[0m\u001b[1;33m,\u001b[0m \u001b[1;34m\"Recovered\"\u001b[0m\u001b[1;33m,\u001b[0m \u001b[1;34m\"Healthy\"\u001b[0m\u001b[1;33m,\u001b[0m \u001b[1;34m\"All\"\u001b[0m\u001b[1;33m]\u001b[0m\u001b[1;33m,\u001b[0m \u001b[0msplit\u001b[0m\u001b[1;33m=\u001b[0m\u001b[1;36m0\u001b[0m\u001b[1;33m,\u001b[0m \u001b[0mcollapse\u001b[0m\u001b[1;33m=\u001b[0m\u001b[1;32mTrue\u001b[0m\u001b[1;33m)\u001b[0m\u001b[1;33m\u001b[0m\u001b[0m\n\u001b[0m\u001b[1;32m      2\u001b[0m \u001b[0mplt\u001b[0m\u001b[1;33m.\u001b[0m\u001b[0mshow\u001b[0m\u001b[1;33m(\u001b[0m\u001b[1;33m)\u001b[0m\u001b[1;33m\u001b[0m\u001b[0m\n",
      "\u001b[0;31mNameError\u001b[0m: name 'x' is not defined"
     ]
    }
   ],
   "source": [
    "fig1, ax1 = draw_model(x, y[3:], [\"Infected Is\", \"Infected Ia\", \"Recovered\", \"Healthy\", \"All\"], split=0, collapse=True)\n",
    "plt.show()"
   ]
  },
  {
   "cell_type": "code",
   "execution_count": 117,
   "metadata": {},
   "outputs": [
    {
     "ename": "NameError",
     "evalue": "name 'x' is not defined",
     "output_type": "error",
     "traceback": [
      "\u001b[0;31m---------------------------------------------------------------------------\u001b[0m",
      "\u001b[0;31mNameError\u001b[0m                                 Traceback (most recent call last)",
      "\u001b[0;32m<ipython-input-117-52202a92aa1c>\u001b[0m in \u001b[0;36m<module>\u001b[0;34m()\u001b[0m\n\u001b[0;32m----> 1\u001b[0;31m \u001b[0mfig2\u001b[0m\u001b[1;33m,\u001b[0m \u001b[0max2\u001b[0m \u001b[1;33m=\u001b[0m \u001b[0mdraw_model\u001b[0m\u001b[1;33m(\u001b[0m\u001b[0mx\u001b[0m\u001b[1;33m,\u001b[0m \u001b[0my\u001b[0m\u001b[1;33m[\u001b[0m\u001b[1;36m0\u001b[0m\u001b[1;33m:\u001b[0m\u001b[1;36m3\u001b[0m\u001b[1;33m]\u001b[0m\u001b[1;33m,\u001b[0m \u001b[1;33m[\u001b[0m\u001b[1;34m\"Susceptible\"\u001b[0m\u001b[1;33m,\u001b[0m \u001b[1;34m\"Vaccinated ap\"\u001b[0m\u001b[1;33m,\u001b[0m \u001b[1;34m\"Vaccinated wp\"\u001b[0m\u001b[1;33m]\u001b[0m\u001b[1;33m,\u001b[0m \u001b[0msplit\u001b[0m\u001b[1;33m=\u001b[0m\u001b[1;32mFalse\u001b[0m\u001b[1;33m,\u001b[0m \u001b[0mcollapse\u001b[0m\u001b[1;33m=\u001b[0m\u001b[1;32mTrue\u001b[0m\u001b[1;33m)\u001b[0m\u001b[1;33m\u001b[0m\u001b[0m\n\u001b[0m\u001b[1;32m      2\u001b[0m \u001b[0mplt\u001b[0m\u001b[1;33m.\u001b[0m\u001b[0mshow\u001b[0m\u001b[1;33m(\u001b[0m\u001b[1;33m)\u001b[0m\u001b[1;33m\u001b[0m\u001b[0m\n",
      "\u001b[0;31mNameError\u001b[0m: name 'x' is not defined"
     ]
    }
   ],
   "source": [
    "fig2, ax2 = draw_model(x, y[0:3], [\"Susceptible\", \"Vaccinated ap\", \"Vaccinated wp\"], split=False, collapse=True)\n",
    "plt.show()"
   ]
  },
  {
   "cell_type": "code",
   "execution_count": 87,
   "metadata": {},
   "outputs": [
    {
     "ename": "NameError",
     "evalue": "name 'x' is not defined",
     "output_type": "error",
     "traceback": [
      "\u001b[0;31m---------------------------------------------------------------------------\u001b[0m",
      "\u001b[0;31mNameError\u001b[0m                                 Traceback (most recent call last)",
      "\u001b[0;32m<ipython-input-87-8b223e27bfd6>\u001b[0m in \u001b[0;36m<module>\u001b[0;34m()\u001b[0m\n\u001b[0;32m----> 1\u001b[0;31m \u001b[0mfig3\u001b[0m\u001b[1;33m,\u001b[0m \u001b[0max3\u001b[0m \u001b[1;33m=\u001b[0m \u001b[0mdraw_model\u001b[0m\u001b[1;33m(\u001b[0m\u001b[0mx\u001b[0m\u001b[1;33m,\u001b[0m \u001b[0my\u001b[0m\u001b[1;33m[\u001b[0m\u001b[1;36m3\u001b[0m\u001b[1;33m:\u001b[0m\u001b[1;33m]\u001b[0m\u001b[1;33m,\u001b[0m \u001b[1;33m[\u001b[0m\u001b[1;34m\"Infected Is\"\u001b[0m\u001b[1;33m,\u001b[0m \u001b[1;34m\"Infected Ia\"\u001b[0m\u001b[1;33m,\u001b[0m \u001b[1;34m\"Recovered\"\u001b[0m\u001b[1;33m,\u001b[0m \u001b[1;34m\"Healthy\"\u001b[0m\u001b[1;33m,\u001b[0m \u001b[1;34m\"All\"\u001b[0m\u001b[1;33m]\u001b[0m\u001b[1;33m,\u001b[0m \u001b[0msplit\u001b[0m\u001b[1;33m=\u001b[0m\u001b[1;36m0\u001b[0m\u001b[1;33m,\u001b[0m \u001b[0mcollapse\u001b[0m\u001b[1;33m=\u001b[0m\u001b[1;32mTrue\u001b[0m\u001b[1;33m)\u001b[0m\u001b[1;33m\u001b[0m\u001b[0m\n\u001b[0m\u001b[1;32m      2\u001b[0m \u001b[1;31m# ax3[0].scatter(years, data_years / 12)\u001b[0m\u001b[1;33m\u001b[0m\u001b[1;33m\u001b[0m\u001b[0m\n\u001b[1;32m      3\u001b[0m \u001b[0max3\u001b[0m\u001b[1;33m[\u001b[0m\u001b[1;36m0\u001b[0m\u001b[1;33m]\u001b[0m\u001b[1;33m.\u001b[0m\u001b[0mscatter\u001b[0m\u001b[1;33m(\u001b[0m\u001b[0mmonths\u001b[0m\u001b[1;33m,\u001b[0m \u001b[0mdata\u001b[0m\u001b[1;33m.\u001b[0m\u001b[0msum\u001b[0m\u001b[1;33m(\u001b[0m\u001b[0maxis\u001b[0m\u001b[1;33m=\u001b[0m\u001b[1;36m1\u001b[0m\u001b[1;33m)\u001b[0m\u001b[1;33m,\u001b[0m \u001b[0mc\u001b[0m\u001b[1;33m=\u001b[0m\u001b[1;34m'green'\u001b[0m\u001b[1;33m)\u001b[0m\u001b[1;33m\u001b[0m\u001b[0m\n\u001b[1;32m      4\u001b[0m \u001b[0max3\u001b[0m\u001b[1;33m[\u001b[0m\u001b[1;36m0\u001b[0m\u001b[1;33m]\u001b[0m\u001b[1;33m.\u001b[0m\u001b[0mset_xlim\u001b[0m\u001b[1;33m(\u001b[0m\u001b[1;33m[\u001b[0m\u001b[1;36m2000\u001b[0m\u001b[1;33m,\u001b[0m \u001b[1;36m2015\u001b[0m\u001b[1;33m]\u001b[0m\u001b[1;33m)\u001b[0m\u001b[1;33m\u001b[0m\u001b[0m\n\u001b[1;32m      5\u001b[0m \u001b[0max3\u001b[0m\u001b[1;33m[\u001b[0m\u001b[1;36m0\u001b[0m\u001b[1;33m]\u001b[0m\u001b[1;33m.\u001b[0m\u001b[0mset_ylim\u001b[0m\u001b[1;33m(\u001b[0m\u001b[1;36m0\u001b[0m\u001b[1;33m,\u001b[0m \u001b[1;36m0.05\u001b[0m\u001b[1;33m)\u001b[0m\u001b[1;33m\u001b[0m\u001b[0m\n",
      "\u001b[0;31mNameError\u001b[0m: name 'x' is not defined"
     ]
    }
   ],
   "source": [
    "fig3, ax3 = draw_model(x, y[3:], [\"Infected Is\", \"Infected Ia\", \"Recovered\", \"Healthy\", \"All\"], split=0, collapse=True)\n",
    "# ax3[0].scatter(years, data_years / 12)\n",
    "ax3[0].scatter(months, data.sum(axis=1), c='green')\n",
    "ax3[0].set_xlim([2000, 2015])\n",
    "ax3[0].set_ylim(0, 0.05)\n",
    "plt.show()"
   ]
  }
 ],
 "metadata": {
  "anaconda-cloud": {},
  "celltoolbar": "Initialization Cell",
  "kernelspec": {
   "display_name": "Python [default]",
   "language": "python",
   "name": "python3"
  },
  "language_info": {
   "codemirror_mode": {
    "name": "ipython",
    "version": 3
   },
   "file_extension": ".py",
   "mimetype": "text/x-python",
   "name": "python",
   "nbconvert_exporter": "python",
   "pygments_lexer": "ipython3",
   "version": "3.5.2"
  },
  "toc": {
   "colors": {
    "hover_highlight": "#DAA520",
    "navigate_num": "#000000",
    "navigate_text": "#333333",
    "running_highlight": "#FF0000",
    "selected_highlight": "#FFD700",
    "sidebar_border": "#EEEEEE",
    "wrapper_background": "#FFFFFF"
   },
   "moveMenuLeft": true,
   "nav_menu": {
    "height": "120px",
    "width": "252px"
   },
   "navigate_menu": true,
   "number_sections": true,
   "sideBar": true,
   "threshold": 4,
   "toc_cell": false,
   "toc_position": {
    "height": "853px",
    "left": "0px",
    "right": "1154px",
    "top": "106px",
    "width": "212px"
   },
   "toc_section_display": "block",
   "toc_window_display": true,
   "widenNotebook": false
  }
 },
 "nbformat": 4,
 "nbformat_minor": 1
}
