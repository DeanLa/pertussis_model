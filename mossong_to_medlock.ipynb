{
 "cells": [
  {
   "cell_type": "markdown",
   "metadata": {},
   "source": [
    "# Medlock Matrix\n",
    "Using Medlock's[16] method for conversion from Mossong[own directory]"
   ]
  },
  {
   "cell_type": "code",
   "execution_count": 37,
   "metadata": {
    "collapsed": false
   },
   "outputs": [],
   "source": [
    "countries = ['BE', 'DE', 'FI', 'GB', 'IT', 'LU', 'NL', 'PL']\n",
    "\n",
    "ages_dist = pd.read_excel('./data/mossong/age_distributions.xlsx', sheetname='census')\n",
    "# ages_dist"
   ]
  },
  {
   "cell_type": "code",
   "execution_count": 50,
   "metadata": {
    "collapsed": false
   },
   "outputs": [],
   "source": [
    "# Create the normalized symmetric Medlock Matrix\n",
    "M = np.zeros((15,15))\n",
    "for country in countries:\n",
    "    C = pd.read_excel('./data/mossong/original_mossong_reported.xlsx', header=None, sheetname=country)\n",
    "    dist = ages_dist[country].values\n",
    "    M += C / dist\n",
    "#     break\n",
    "M /= 8\n",
    "M = 0.5 * (M + M.T)\n",
    "np.savetxt('./data/mossong/medlock_avg_sym.csv', M, fmt='%.5f', delimiter=',')"
   ]
  },
  {
   "cell_type": "code",
   "execution_count": 32,
   "metadata": {
    "collapsed": false
   },
   "outputs": [],
   "source": [
    "def medlock(C, vec):\n",
    "    '''Takes a medlock symmetric Matrix with an ages vector, and stratifies the matrix according to the ages'''\n",
    "    v = [np.arange(a,b) for a, b in zip(vec[:-1], vec[1:])]\n",
    "    E = np.zeros([len(v)] * 2)\n",
    "    for i in range(len(v)):\n",
    "        for j in range(len(v)):\n",
    "            val = 0\n",
    "            cnt = 0\n",
    "            for vi in v[i]:\n",
    "                for vj in v[j]:\n",
    "                    cnt+=1\n",
    "                    val += C[min(C.shape[0] - 1, int(vi)//5), min(C.shape[1] - 1, int(vj)//5)]\n",
    "            E[i, j] = val / cnt\n",
    "    return E"
   ]
  },
  {
   "cell_type": "code",
   "execution_count": 34,
   "metadata": {
    "collapsed": false
   },
   "outputs": [
    {
     "data": {
      "text/plain": [
       "array([   0.        ,    0.16666667,    0.33333333,    0.5       ,\n",
       "          0.66666667,    0.83333333,    1.        ,    2.        ,\n",
       "          3.        ,    4.        ,    5.        ,    6.        ,\n",
       "          7.        ,    8.        ,    9.        ,   10.        ,\n",
       "         11.        ,   12.        ,   13.        ,   15.        ,\n",
       "         18.        ,   21.        ,   25.        ,   35.        ,\n",
       "         45.        ,   55.        ,   65.        ,  100.        ])"
      ]
     },
     "execution_count": 34,
     "metadata": {},
     "output_type": "execute_result"
    }
   ],
   "source": [
    "# Relevant Ages\n",
    "_ages = np.hstack((np.arange(0, 1, 2 / 12),  # First year: Every 2 months\n",
    "                   np.arange(1, 14, 1),  # Every year until age of 13\n",
    "                   15, 18, 21,  # High Scholl, Grad, Army\n",
    "                   np.arange(25, 66, 10),  # 10 Year gaps\n",
    "                   100))  # Death\n",
    "_ages"
   ]
  },
  {
   "cell_type": "code",
   "execution_count": 53,
   "metadata": {
    "collapsed": false
   },
   "outputs": [],
   "source": [
    "med = medlock(M, _ages)\n",
    "med\n",
    "\n",
    "df = pd.DataFrame(med)\n",
    "# df.to_csv('./data/test.csv', header=False, index=False)"
   ]
  }
 ],
 "metadata": {
  "kernelspec": {
   "display_name": "Python 3",
   "language": "python",
   "name": "python3"
  },
  "language_info": {
   "codemirror_mode": {
    "name": "ipython",
    "version": 3.0
   },
   "file_extension": ".py",
   "mimetype": "text/x-python",
   "name": "python",
   "nbconvert_exporter": "python",
   "pygments_lexer": "ipython3",
   "version": "3.5.1"
  }
 },
 "nbformat": 4,
 "nbformat_minor": 0
}