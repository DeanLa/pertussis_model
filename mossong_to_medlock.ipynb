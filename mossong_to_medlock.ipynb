{
 "cells": [
  {
   "cell_type": "markdown",
   "metadata": {},
   "source": [
    "# Medlock Matrix\n",
    "Using Medlock's[16] method for conversion from Mossong[own directory]"
   ]
  },
  {
   "cell_type": "code",
   "execution_count": 37,
   "metadata": {
    "collapsed": false
   },
   "outputs": [],
   "source": [
    "countries = ['BE', 'DE', 'FI', 'GB', 'IT', 'LU', 'NL', 'PL']\n",
    "\n",
    "ages_dist = pd.read_excel('./data/mossong/age_distributions.xlsx', sheetname='census')\n",
    "# ages_dist"
   ]
  },
  {
   "cell_type": "code",
   "execution_count": 50,
   "metadata": {
    "collapsed": false
   },
   "outputs": [],
   "source": [
    "# Create the normalized symmetric Medlock Matrix\n",
    "M = np.zeros((15,15))\n",
    "for country in countries:\n",
    "    C = pd.read_excel('./data/mossong/original_mossong_reported.xlsx', header=None, sheetname=country)\n",
    "    dist = ages_dist[country].values\n",
    "    M += C / dist\n",
    "#     break\n",
    "M /= 8\n",
    "M = 0.5 * (M + M.T)\n",
    "np.savetxt('./data/mossong/medlock_avg_sym.csv', M, fmt='%.5f', delimiter=',')"
   ]
  },
  {
   "cell_type": "code",
   "execution_count": 32,
   "metadata": {
    "collapsed": false
   },
   "outputs": [],
   "source": [
    "def medlock(C, vec):\n",
    "    '''Takes a medlock symmetric Matrix with an ages vector, and stratifies the matrix according to the ages'''\n",
    "    v = [np.arange(a,b) for a, b in zip(vec[:-1], vec[1:])]\n",
    "    E = np.zeros([len(v)] * 2)\n",
    "    for i in range(len(v)):\n",
    "        for j in range(len(v)):\n",
    "            val = 0\n",
    "            cnt = 0\n",
    "            for vi in v[i]:\n",
    "                for vj in v[j]:\n",
    "                    cnt+=1\n",
    "                    val += C[min(C.shape[0] - 1, int(vi)//5), min(C.shape[1] - 1, int(vj)//5)]\n",
    "            E[i, j] = val / cnt\n",
    "    return E"
   ]
  },
  {
   "cell_type": "code",
   "execution_count": 34,
   "metadata": {
    "collapsed": false
   },
   "outputs": [
    {
     "data": {
      "text/plain": [
       "array([   0.        ,    0.16666667,    0.33333333,    0.5       ,\n",
       "          0.66666667,    0.83333333,    1.        ,    2.        ,\n",
       "          3.        ,    4.        ,    5.        ,    6.        ,\n",
       "          7.        ,    8.        ,    9.        ,   10.        ,\n",
       "         11.        ,   12.        ,   13.        ,   15.        ,\n",
       "         18.        ,   21.        ,   25.        ,   35.        ,\n",
       "         45.        ,   55.        ,   65.        ,  100.        ])"
      ]
     },
     "execution_count": 34,
     "metadata": {},
     "output_type": "execute_result"
    }
   ],
   "source": [
    "# Relevant Ages\n",
    "_ages = np.hstack((np.arange(0, 1, 2 / 12),  # First year: Every 2 months\n",
    "                   np.arange(1, 14, 1),  # Every year until age of 13\n",
    "                   15, 18, 21,  # High Scholl, Grad, Army\n",
    "                   np.arange(25, 66, 10),  # 10 Year gaps\n",
    "                   100))  # Death\n",
    "_ages"
   ]
  },
  {
   "cell_type": "code",
   "execution_count": 36,
   "metadata": {
    "collapsed": false
   },
   "outputs": [
    {
     "ename": "PermissionError",
     "evalue": "[Errno 13] Permission denied: './data/test.csv'",
     "output_type": "error",
     "traceback": [
      "\u001b[1;31m\u001b[0m",
      "\u001b[1;31mPermissionError\u001b[0mTraceback (most recent call last)",
      "\u001b[1;32m<ipython-input-36-2852903cf1f8>\u001b[0m in \u001b[0;36m<module>\u001b[1;34m()\u001b[0m\n\u001b[0;32m      3\u001b[0m \u001b[1;33m\u001b[0m\u001b[0m\n\u001b[0;32m      4\u001b[0m \u001b[0mdf\u001b[0m \u001b[1;33m=\u001b[0m \u001b[0mpd\u001b[0m\u001b[1;33m.\u001b[0m\u001b[0mDataFrame\u001b[0m\u001b[1;33m(\u001b[0m\u001b[0mmed\u001b[0m\u001b[1;33m)\u001b[0m\u001b[1;33m\u001b[0m\u001b[0m\n\u001b[1;32m----> 5\u001b[1;33m \u001b[0mdf\u001b[0m\u001b[1;33m.\u001b[0m\u001b[0mto_csv\u001b[0m\u001b[1;33m(\u001b[0m\u001b[1;34m'./data/test.csv'\u001b[0m\u001b[1;33m,\u001b[0m \u001b[0mheader\u001b[0m\u001b[1;33m=\u001b[0m\u001b[1;32mFalse\u001b[0m\u001b[1;33m,\u001b[0m \u001b[0mindex\u001b[0m\u001b[1;33m=\u001b[0m\u001b[1;32mFalse\u001b[0m\u001b[1;33m)\u001b[0m\u001b[1;33m\u001b[0m\u001b[0m\n\u001b[0m",
      "\u001b[1;32mc:\\Anaconda3\\lib\\site-packages\\pandas\\core\\frame.py\u001b[0m in \u001b[0;36mto_csv\u001b[1;34m(self, path_or_buf, sep, na_rep, float_format, columns, header, index, index_label, mode, encoding, compression, quoting, quotechar, line_terminator, chunksize, tupleize_cols, date_format, doublequote, escapechar, decimal, **kwds)\u001b[0m\n\u001b[0;32m   1341\u001b[0m                                      \u001b[0mdoublequote\u001b[0m\u001b[1;33m=\u001b[0m\u001b[0mdoublequote\u001b[0m\u001b[1;33m,\u001b[0m\u001b[1;33m\u001b[0m\u001b[0m\n\u001b[0;32m   1342\u001b[0m                                      escapechar=escapechar, decimal=decimal)\n\u001b[1;32m-> 1343\u001b[1;33m         \u001b[0mformatter\u001b[0m\u001b[1;33m.\u001b[0m\u001b[0msave\u001b[0m\u001b[1;33m(\u001b[0m\u001b[1;33m)\u001b[0m\u001b[1;33m\u001b[0m\u001b[0m\n\u001b[0m\u001b[0;32m   1344\u001b[0m \u001b[1;33m\u001b[0m\u001b[0m\n\u001b[0;32m   1345\u001b[0m         \u001b[1;32mif\u001b[0m \u001b[0mpath_or_buf\u001b[0m \u001b[1;32mis\u001b[0m \u001b[1;32mNone\u001b[0m\u001b[1;33m:\u001b[0m\u001b[1;33m\u001b[0m\u001b[0m\n",
      "\u001b[1;32mc:\\Anaconda3\\lib\\site-packages\\pandas\\core\\format.py\u001b[0m in \u001b[0;36msave\u001b[1;34m(self)\u001b[0m\n\u001b[0;32m   1523\u001b[0m             f = _get_handle(self.path_or_buf, self.mode,\n\u001b[0;32m   1524\u001b[0m                             \u001b[0mencoding\u001b[0m\u001b[1;33m=\u001b[0m\u001b[0mself\u001b[0m\u001b[1;33m.\u001b[0m\u001b[0mencoding\u001b[0m\u001b[1;33m,\u001b[0m\u001b[1;33m\u001b[0m\u001b[0m\n\u001b[1;32m-> 1525\u001b[1;33m                             compression=self.compression)\n\u001b[0m\u001b[0;32m   1526\u001b[0m             \u001b[0mclose\u001b[0m \u001b[1;33m=\u001b[0m \u001b[1;32mTrue\u001b[0m\u001b[1;33m\u001b[0m\u001b[0m\n\u001b[0;32m   1527\u001b[0m \u001b[1;33m\u001b[0m\u001b[0m\n",
      "\u001b[1;32mc:\\Anaconda3\\lib\\site-packages\\pandas\\io\\common.py\u001b[0m in \u001b[0;36m_get_handle\u001b[1;34m(path, mode, encoding, compression)\u001b[0m\n\u001b[0;32m    373\u001b[0m                 \u001b[0mf\u001b[0m \u001b[1;33m=\u001b[0m \u001b[0mopen\u001b[0m\u001b[1;33m(\u001b[0m\u001b[0mpath\u001b[0m\u001b[1;33m,\u001b[0m \u001b[0mmode\u001b[0m\u001b[1;33m,\u001b[0m \u001b[0mencoding\u001b[0m\u001b[1;33m=\u001b[0m\u001b[0mencoding\u001b[0m\u001b[1;33m)\u001b[0m\u001b[1;33m\u001b[0m\u001b[0m\n\u001b[0;32m    374\u001b[0m             \u001b[1;32melse\u001b[0m\u001b[1;33m:\u001b[0m\u001b[1;33m\u001b[0m\u001b[0m\n\u001b[1;32m--> 375\u001b[1;33m                 \u001b[0mf\u001b[0m \u001b[1;33m=\u001b[0m \u001b[0mopen\u001b[0m\u001b[1;33m(\u001b[0m\u001b[0mpath\u001b[0m\u001b[1;33m,\u001b[0m \u001b[0mmode\u001b[0m\u001b[1;33m,\u001b[0m \u001b[0merrors\u001b[0m\u001b[1;33m=\u001b[0m\u001b[1;34m'replace'\u001b[0m\u001b[1;33m)\u001b[0m\u001b[1;33m\u001b[0m\u001b[0m\n\u001b[0m\u001b[0;32m    376\u001b[0m         \u001b[1;32melse\u001b[0m\u001b[1;33m:\u001b[0m\u001b[1;33m\u001b[0m\u001b[0m\n\u001b[0;32m    377\u001b[0m             \u001b[0mf\u001b[0m \u001b[1;33m=\u001b[0m \u001b[0mopen\u001b[0m\u001b[1;33m(\u001b[0m\u001b[0mpath\u001b[0m\u001b[1;33m,\u001b[0m \u001b[0mmode\u001b[0m\u001b[1;33m)\u001b[0m\u001b[1;33m\u001b[0m\u001b[0m\n",
      "\u001b[1;31mPermissionError\u001b[0m: [Errno 13] Permission denied: './data/test.csv'"
     ]
    }
   ],
   "source": [
    "med = medlock(M, _ages)\n",
    "med\n",
    "\n",
    "df = pd.DataFrame(med)\n",
    "df.to_csv('./data/test.csv', header=False, index=False)"
   ]
  },
  {
   "cell_type": "code",
   "execution_count": 51,
   "metadata": {
    "collapsed": true
   },
   "outputs": [],
   "source": [
    "C = np.genfromtxt('./data/mossong/medlock_avg_sym.csv', delimiter=',')  # Contact Matrix"
   ]
  },
  {
   "cell_type": "code",
   "execution_count": 52,
   "metadata": {
    "collapsed": false
   },
   "outputs": [
    {
     "data": {
      "text/plain": [
       "array([[  45.12466,   19.18709,    6.51903,    4.09439,    5.91482,\n",
       "          11.402  ,   16.77443,   13.935  ,   10.38041,    6.22003,\n",
       "           5.90855,    6.03399,    6.49007,    4.39994,    3.85642],\n",
       "       [  19.18709,  119.39419,   21.32796,    5.95683,    4.25551,\n",
       "           9.40291,   15.14165,   17.06215,   14.64397,    7.11883,\n",
       "           7.23482,    5.75884,    5.35099,    5.44007,    4.44532],\n",
       "       [   6.51903,   21.32796,  157.13189,   25.181  ,    5.73682,\n",
       "           5.28089,    9.45535,   13.24229,   16.959  ,   11.09985,\n",
       "           8.94299,    5.20229,    4.51118,    3.93906,    4.80425],\n",
       "       [   4.09439,    5.95683,   25.181  ,  152.93086,   24.53145,\n",
       "          10.33991,    7.96285,   10.17697,   14.62978,   18.64084,\n",
       "          11.06104,    6.94699,    4.46303,    3.29377,    3.94017],\n",
       "       [   5.91482,    4.25551,    5.73682,   24.53145,   58.40697,\n",
       "          28.02262,   16.25608,   12.42671,   13.48995,   14.76069,\n",
       "          14.36927,    8.92779,    6.39439,    4.45687,    3.69918],\n",
       "       [  11.402  ,    9.40291,    5.28089,   10.33991,   28.02262,\n",
       "          37.84193,   23.83171,   17.22716,   14.18315,   14.14838,\n",
       "          17.23554,   12.49318,   10.26551,    7.97291,    4.4689 ],\n",
       "       [  16.77443,   15.14165,    9.45535,    7.96285,   16.25608,\n",
       "          23.83171,   33.34541,   24.74399,   19.29682,   15.16321,\n",
       "          13.93031,   13.10958,   13.88901,    9.29342,    4.55607],\n",
       "       [  13.935  ,   17.06215,   13.24229,   10.17697,   12.42671,\n",
       "          17.22716,   24.74399,   31.83552,   23.02513,   17.39589,\n",
       "          14.42532,   11.11191,   13.60491,   12.11884,    5.21522],\n",
       "       [  10.38041,   14.64397,   16.959  ,   14.62978,   13.48995,\n",
       "          14.18315,   19.29682,   23.02513,   27.48067,   20.39452,\n",
       "          16.29396,   11.74783,   12.20795,   11.39155,    6.65981],\n",
       "       [   6.22003,    7.11883,   11.09985,   18.64084,   14.76069,\n",
       "          14.14838,   15.16321,   17.39589,   20.39452,   25.36711,\n",
       "          18.67454,   12.69722,   10.11941,    7.4939 ,    7.86287],\n",
       "       [   5.90855,    7.23482,    8.94299,   11.06104,   14.36927,\n",
       "          17.23554,   13.93031,   14.42532,   16.29396,   18.67454,\n",
       "          21.33962,   17.56092,   11.83886,    8.19236,    7.65461],\n",
       "       [   6.03399,    5.75884,    5.20229,    6.94699,    8.92779,\n",
       "          12.49318,   13.10958,   11.11191,   11.74783,   12.69722,\n",
       "          17.56092,   24.43344,   17.237  ,   10.94418,    7.83309],\n",
       "       [   6.49007,    5.35099,    4.51118,    4.46303,    6.39439,\n",
       "          10.26551,   13.88901,   13.60491,   12.20795,   10.11941,\n",
       "          11.83886,   17.237  ,   22.6958 ,   15.8624 ,   11.56431],\n",
       "       [   4.39994,    5.44007,    3.93906,    3.29377,    4.45687,\n",
       "           7.97291,    9.29342,   12.11884,   11.39155,    7.4939 ,\n",
       "           8.19236,   10.94418,   15.8624 ,   19.12601,   13.87788],\n",
       "       [   3.85642,    4.44532,    4.80425,    3.94017,    3.69918,\n",
       "           4.4689 ,    4.55607,    5.21522,    6.65981,    7.86287,\n",
       "           7.65461,    7.83309,   11.56431,   13.87788,   13.22675]])"
      ]
     },
     "execution_count": 52,
     "metadata": {},
     "output_type": "execute_result"
    }
   ],
   "source": [
    "C"
   ]
  },
  {
   "cell_type": "code",
   "execution_count": null,
   "metadata": {
    "collapsed": true
   },
   "outputs": [],
   "source": []
  }
 ],
 "metadata": {
  "kernelspec": {
   "display_name": "Python 3",
   "language": "python",
   "name": "python3"
  },
  "language_info": {
   "codemirror_mode": {
    "name": "ipython",
    "version": 3
   },
   "file_extension": ".py",
   "mimetype": "text/x-python",
   "name": "python",
   "nbconvert_exporter": "python",
   "pygments_lexer": "ipython3",
   "version": "3.5.1"
  }
 },
 "nbformat": 4,
 "nbformat_minor": 1
}
