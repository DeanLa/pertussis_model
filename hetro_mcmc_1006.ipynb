{
 "cells": [
  {
   "cell_type": "code",
   "execution_count": 1,
   "metadata": {
    "collapsed": false
   },
   "outputs": [
    {
     "name": "stdout",
     "output_type": "stream",
     "text": [
      " [-----------------57%-                 ] 570 of 1000 complete in 16364.7 sec"
     ]
    },
    {
     "name": "stderr",
     "output_type": "stream",
     "text": [
      "C:\\Users\\user\\Anaconda3\\lib\\site-packages\\scipy\\integrate\\odepack.py:218: ODEintWarning: Repeated error test failures (internal error). Run with full_output = 1 to get quantitative information.\n",
      "  warnings.warn(warning_msg, ODEintWarning)\n"
     ]
    },
    {
     "name": "stdout",
     "output_type": "stream",
     "text": [
      " [-----------------100%-----------------] 1000 of 1000 complete in 29980.9 sec"
     ]
    }
   ],
   "source": [
    "import numpy as np\n",
    "import matplotlib.pyplot as plt\n",
    "import pymc as pm\n",
    "from scipy.integrate import odeint\n",
    "from time import clock, sleep\n",
    "from datetime import datetime as dt\n",
    "from pprint import pprint\n",
    "import pickle\n",
    "from copy import copy\n",
    "\n",
    "from pertussis import *\n",
    "\n",
    "logger.setLevel(logging.WARNING)\n",
    "\n",
    "# Initial\n",
    "r_start = 1939\n",
    "r_end = 2015\n",
    "step = 1 / N\n",
    "t_end = expand_time(r_end, start=r_start, step=step)\n",
    "t_start = expand_time(r_start, start=r_start, step=step)\n",
    "t_range = np.arange(t_start, t_end, 1)\n",
    "vars = copy(locals())\n",
    "times = []\n",
    "# Data\n",
    "# report_rate = np.append(nums(250, 7), nums(400, J - 7))  # Danny Cohen paper. pg3\n",
    "# data_years, years = cases_yearly()  # per 1e5\n",
    "# data_years *= 400 / 1e5\n",
    "data, months = cases_monthly()  # per 1e5\n",
    "# data_months *= 400 / 1e5\n",
    "# data = cases_month_age()\n",
    "\n",
    "# Collect State 0 - 1 run of model on year -100 to 0\n",
    "state_0 = collect_state0()\n",
    "state_0 = pack_flat(state_0)\n",
    "warm_up = 100\n",
    "clk = clock()\n",
    "state_0 = odeint(hetro_model,state_0, np.arange(0,warm_up*365), args = (4,0,0.1,r_start - warm_up))[-1,:]\n",
    "logger.info(\"state_0 collected {:.2f} secs\".format(clock() - clk))\n",
    "# logger.debug(\"State 0: {}\\n\".format(state_0))\n",
    "###################################################################################################################\n",
    "#########################                            Run Model                   ##################################\n",
    "###################################################################################################################\n",
    "import pymc as pm\n",
    "\n",
    "# Priors\n",
    "o = pm.Uniform('omega', 3, 6)\n",
    "phi = pm.Uniform('phi', 0, omega + 0.1)\n",
    "f_top = 2\n",
    "f1 = pm.Uniform('f1', 0, f_top)\n",
    "f2 = pm.Uniform('f2', 0, f_top)\n",
    "f3 = pm.Uniform('f3', 0, f_top)\n",
    "# p = pm.Uniform('p', 1 / 400, 1 / 60)\n",
    "p = SCENARIO[scenario_number]['p']\n",
    "\n",
    "\n",
    "@pm.deterministic\n",
    "def f(f1=f1, f2=f2, f3=f3):\n",
    "    return np.concatenate((nums(f1, sc[0]), nums(f2, sc[1]), nums(f3, sc[2])))\n",
    "\n",
    "\n",
    "# def mu(sim=sim, omega=omega, phi=phi, f=f):\n",
    "@pm.deterministic\n",
    "def mu(o=o, phi=phi, f=f):\n",
    "    # Run simulation\n",
    "    clk = clock()\n",
    "    sim = odeint(hetro_model, pack_flat(state_0), t_range,\n",
    "                 args=(o, phi, f, r_start))\n",
    "    logger.info(\" \" * 20 + \"TIME{:10.2f}\".format(clock() - clk))\n",
    "\n",
    "    sim = unpack(sim.T, *unpack_values)\n",
    "    times.append(clock() - clk)\n",
    "\n",
    "    # Compute values\n",
    "    # y is suseptibles. Merge 27 age groupes into 3 susceptible groups\n",
    "    y = sim[3]\n",
    "    y = np.split(y, np.cumsum(sc)[:-1])\n",
    "    y = [yi.sum(axis=0) for yi in y]\n",
    "    y = np.array([new_cases(yi, gamma_s) for yi in y])\n",
    "    # TODO: new cases\n",
    "    # Reduce y to monthly data and take only 1998-2014\n",
    "    start_ix = (1998 - r_start) * 12\n",
    "    end_ix = (2014 - r_start) * 12\n",
    "    res = reduce_month(y)[:, start_ix:end_ix]\n",
    "    # logger.info(res.shape)\n",
    "    # logger.info(data.shape)\n",
    "    return res.T\n",
    "\n",
    "\n",
    "# print (mu.value)\n",
    "# Y = pm.Normal('Y', mu=mu1, tau=1 / sigma1 ** 2, observed=True, value=data)\n",
    "# Y = pm.Binomial('Y', n=mu, p=p, observed=True, value=data.T)\n",
    "Y = pm.Binomial('Y', n=mu, p=p, observed=True, value=data)\n",
    "\n",
    "# TODO: Other Backend\n",
    "# model = pm.Model([Y, sim, f, mu, omega, phi, f1, f2, f3, ])\n",
    "model = pm.Model([Y, mu, o, phi, f, f1, f2, f3])\n",
    "mcmc = pm.MCMC(model, db=\"ram\")\n",
    "gclk = clock()\n",
    "mcmc.sample(iter=1000, burn=0)  #######################################################################################\n",
    "logger.info(\"Global Time {}\".format(clock() - gclk))"
   ]
  },
  {
   "cell_type": "code",
   "execution_count": 2,
   "metadata": {
    "collapsed": false
   },
   "outputs": [
    {
     "name": "stderr",
     "output_type": "stream",
     "text": [
      "C:\\Users\\user\\Anaconda3\\lib\\site-packages\\numpy\\core\\fromnumeric.py:225: VisibleDeprecationWarning: using a non-integer number instead of an integer will result in an error in the future\n",
      "  return reshape(newshape, order=order)\n"
     ]
    },
    {
     "ename": "SystemExit",
     "evalue": "TEST",
     "output_type": "error",
     "traceback": [
      "An exception has occurred, use %tb to see the full traceback.\n",
      "\u001b[0;31mSystemExit\u001b[0m\u001b[0;31m:\u001b[0m TEST\n"
     ]
    },
    {
     "name": "stderr",
     "output_type": "stream",
     "text": [
      "C:\\Users\\user\\Anaconda3\\lib\\site-packages\\IPython\\core\\interactiveshell.py:2889: UserWarning: To exit: use 'exit', 'quit', or Ctrl-D.\n",
      "  warn(\"To exit: use 'exit', 'quit', or Ctrl-D.\", stacklevel=1)\n"
     ]
    }
   ],
   "source": [
    "# times = np.array(times)\n",
    "# logger.info(times.min(), times.mean(), times.max())\n",
    "\n",
    "# Traces\n",
    "t_tally = 0\n",
    "m_f = mcmc.trace('f')[t_tally:].mean(axis=0)\n",
    "m_omega = mcmc.trace('omega')[t_tally:].mean()\n",
    "m_phi = mcmc.trace('phi')[t_tally:].mean()\n",
    "tr_mu = mcmc.trace('mu', chain=None)[t_tally:]\n",
    "m_mu = tr_mu.mean(axis=0)\n",
    "# m_p = mcmc.trace('p', chain=None)[t_tally:].mean(axis=0)\n",
    "m_p = p\n",
    "\n",
    "# Show mean values fit\n",
    "clk = clock()\n",
    "RES = odeint(hetro_model, state_0, t_range,\n",
    "             args=(m_omega, m_phi, m_f, r_start))\n",
    "logger.info(\" \" * 15 +\"LAST \" + \"TIME{:10.2f}\".format(clock() - clk))\n",
    "# # Results\n",
    "x = reduce_time(t_range, start=r_start, step=step)\n",
    "y = unpack(RES.T, *unpack_values)\n",
    "h = sum([i for i in y[:3]])\n",
    "all = sum([i for i in y])\n",
    "y.append(h)\n",
    "y.append(all)\n",
    "\n",
    "\n",
    "# PLOT\n",
    "figs = []\n",
    "fig, axs = mu_chart(tr_mu * m_p, data)\n",
    "figs.append(fig)\n",
    "\n",
    "fig1, ax1 = draw_model(x, y[3:], [\"Infected Is\", \"Infected Ia\", \"Recovered\", \"Healthy\", \"All\"], split=0, collapse=True)\n",
    "figs.append(fig1)\n",
    "\n",
    "fig2, ax2 = draw_model(x, y[0:3], [\"Susceptible\", \"Vaccinated ap\", \"Vaccinated wp\"], split=False, collapse=True)\n",
    "figs.append(fig2)\n",
    "\n",
    "fig3, ax3 = draw_model(x, y[3:], [\"Infected Is\", \"Infected Ia\", \"Recovered\", \"Healthy\", \"All\"], split=0, collapse=True)\n",
    "# ax3[0].scatter(years, data_years / 12)\n",
    "ax3[0].scatter(months, data.sum(axis=1), c='green')\n",
    "ax3[0].set_xlim([2000, 2015])\n",
    "ax3[0].set_ylim(0, 0.05)\n",
    "figs.append(fig3)\n",
    "\n",
    "plt.tight_layout()\n",
    "path = write_report(vars, x, y, figs, scenario_number, mcmc)\n",
    "# with open (path+\"mcmc.pickle\", 'wb') as pickle_file:\n",
    "#     pickle.dump(mcmc.trace(), pickle_file)\n",
    "# plt.show()\n",
    "sys.exit('TEST')"
   ]
  },
  {
   "cell_type": "code",
   "execution_count": 9,
   "metadata": {
    "collapsed": false
   },
   "outputs": [],
   "source": [
    "# Save Traces\n",
    "t_tally = 0\n",
    "tr_f = mcmc.trace('f')[t_tally:]\n",
    "tr_f1 = mcmc.trace('f1')[t_tally:]\n",
    "tr_f2 = mcmc.trace('f2')[t_tally:]\n",
    "tr_f3 = mcmc.trace('f3')[t_tally:]\n",
    "tr_omega = mcmc.trace('omega')[t_tally:]\n",
    "tr_phi = mcmc.trace('phi')[t_tally:]\n",
    "tr_mu = mcmc.trace('mu', chain=None)[t_tally:]\n",
    "\n",
    "\n",
    "np.save('./data/traces/tr_f.npy', tr_f)\n",
    "np.save('./data/traces/tr_f1.npy', tr_f1)\n",
    "np.save('./data/traces/tr_f2.npy', tr_f2)\n",
    "np.save('./data/traces/tr_f3.npy', tr_f3)\n",
    "np.save('./data/traces/tr_omega.npy', tr_omega)\n",
    "np.save('./data/traces/tr_phi.npy', tr_phi)\n",
    "np.save('./data/traces/tr_mu.npy', tr_mu)"
   ]
  }
 ],
 "metadata": {
  "anaconda-cloud": {},
  "kernelspec": {
   "display_name": "Python [default]",
   "language": "python",
   "name": "python3"
  },
  "language_info": {
   "codemirror_mode": {
    "name": "ipython",
    "version": 3
   },
   "file_extension": ".py",
   "mimetype": "text/x-python",
   "name": "python",
   "nbconvert_exporter": "python",
   "pygments_lexer": "ipython3",
   "version": "3.5.1"
  }
 },
 "nbformat": 4,
 "nbformat_minor": 1
}
