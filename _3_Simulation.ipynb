{
 "cells": [
  {
   "cell_type": "code",
   "execution_count": 1,
   "metadata": {
    "ExecuteTime": {
     "end_time": "2017-11-21T16:12:51.843745Z",
     "start_time": "2017-11-21T16:12:43.524505Z"
    }
   },
   "outputs": [
    {
     "name": "stdout",
     "output_type": "stream",
     "text": [
      "[ 0.0024  0.0023  0.0023  0.0022  0.0022  0.0022  0.002   0.002   0.002   0.0021\n",
      "  0.0021  0.0021  0.002   0.0021  0.0021  0.0022  0.0023  0.0022  0.0022  0.0023\n",
      "  0.0023  0.0023  0.0022  0.0021  0.002   0.002   0.002   0.002   0.002   0.002\n",
      "  0.0019  0.0019  0.0019  0.0019  0.0018  0.0018  0.0017  0.0018  0.0018  0.0017\n",
      "  0.0017  0.0018  0.0018  0.0018  0.0018  0.0018  0.0017  0.0018  0.0018  0.0018\n",
      "  0.0017  0.0017  0.0017  0.0018  0.0018  0.0018  0.0018  0.0018  0.0018  0.0018]\n"
     ]
    }
   ],
   "source": [
    "import numpy as np\n",
    "import matplotlib.pyplot as plt\n",
    "from scipy.stats import gaussian_kde as kde\n",
    "# from scipy.stats import norm, uniform, multivariate_normal as multinorm, norm\n",
    "# from tqdm import tqdm\n",
    "import seaborn as sns\n",
    "%load_ext autoreload\n",
    "%autoreload 2\n",
    "%matplotlib inline\n",
    "np.set_printoptions(edgeitems=10, linewidth=120, suppress=True, precision=8)\n",
    "\n",
    "from pertussis import *\n",
    "logger.setLevel(logging.INFO)"
   ]
  },
  {
   "cell_type": "markdown",
   "metadata": {},
   "source": [
    "# Make Simulation\n"
   ]
  },
  {
   "cell_type": "markdown",
   "metadata": {},
   "source": [
    "## Init"
   ]
  },
  {
   "cell_type": "code",
   "execution_count": 2,
   "metadata": {
    "ExecuteTime": {
     "end_time": "2017-11-21T16:13:03.767529Z",
     "start_time": "2017-11-21T16:13:02.902099Z"
    }
   },
   "outputs": [
    {
     "name": "stdout",
     "output_type": "stream",
     "text": [
      "mcmc_v2_0 :  34820\n",
      "10000\n"
     ]
    }
   ],
   "source": [
    "# Load MCMC\n",
    "mcmc = load_mcmc('./chains/1120-rho-70-multi-sigma-best-mcmc_v2_0.pkl')\n",
    "print (mcmc['name'],': ',len(mcmc['chain']))\n",
    "print (mcmc['tally'])\n",
    "names = mcmc['names']"
   ]
  },
  {
   "cell_type": "markdown",
   "metadata": {},
   "source": [
    "### Create subsets with effective sample size"
   ]
  },
  {
   "cell_type": "code",
   "execution_count": 3,
   "metadata": {
    "ExecuteTime": {
     "end_time": "2017-11-21T16:13:07.102898Z",
     "start_time": "2017-11-21T16:13:06.871243Z"
    }
   },
   "outputs": [
    {
     "name": "stdout",
     "output_type": "stream",
     "text": [
      "Effective sample size: [ 2049.3271  1970.4551  2183.1012  2383.636 ]\n",
      "[10000 10012 10024 10036 10048 10060 10072 10084 10096 10108 ..., 34708 34720\n",
      " 34732 34744 34756 34768 34780 34792 34804 34816]\n",
      "(2069,)\n",
      "Subset length: 2051\n"
     ]
    }
   ],
   "source": [
    "# Take Subsets\n",
    "take_subsets(mcmc)"
   ]
  },
  {
   "cell_type": "code",
   "execution_count": null,
   "metadata": {
    "collapsed": true
   },
   "outputs": [],
   "source": []
  },
  {
   "cell_type": "markdown",
   "metadata": {},
   "source": [
    "### Create Policies"
   ]
  },
  {
   "cell_type": "code",
   "execution_count": 4,
   "metadata": {
    "ExecuteTime": {
     "end_time": "2017-11-21T16:13:14.766833Z",
     "start_time": "2017-11-21T16:13:14.576207Z"
    }
   },
   "outputs": [
    {
     "name": "stdout",
     "output_type": "stream",
     "text": [
      "30\n"
     ]
    },
    {
     "data": {
      "text/plain": [
       "dict_keys(['end', 'data_sick', 'pregnant_coverage', 'policies', 'p', 'subset_pick', 'data_hospital', 'name', 'start', 'n_policies', 'dist', 'mcmc'])"
      ]
     },
     "execution_count": 4,
     "metadata": {},
     "output_type": "execute_result"
    }
   ],
   "source": [
    "# Create Policies\n",
    "default = init_policy('default')\n",
    "everybody = init_policy('everybody', vax_ages=a_u)\n",
    "no_one = init_policy('no_one', vax_ages=[])\n",
    "\n",
    "# possible_ages = [5,6,7,8,9,10,11,12,13,15,18]\n",
    "\n",
    "policies = [default, everybody, no_one]\n",
    "\n",
    "# Remove\n",
    "# only_age = [5,6,7,10,13]\n",
    "only_age = [5,7,13]\n",
    "for age in only_age:\n",
    "    p_name = '{:02d}'.format(age)\n",
    "    tmp_ages = (2 / 12, 4 / 12, 6 / 12, 1, age)\n",
    "    tmp_policy = init_policy(p_name, vax_ages=tmp_ages)\n",
    "    policies.append(tmp_policy)\n",
    "    \n",
    "# Shift\n",
    "possible_ages = [3,4,5,6,7,13]\n",
    "# possible_ages = [5,7,13]\n",
    "for i in range(len(possible_ages)):\n",
    "    for j in range(i):\n",
    "        agej, agei = possible_ages[j],possible_ages[i]\n",
    "        if (agej == 7) and (agei == 13): continue\n",
    "        p_name = '{:02d},{:02d}'.format(agej,agei)\n",
    "        tmp_ages = (2 / 12, 4 / 12, 6 / 12, 1, agej, agei)\n",
    "        tmp_policy = init_policy(p_name, vax_ages=tmp_ages)\n",
    "        policies.append(tmp_policy)\n",
    "\n",
    "# # Add\n",
    "additional_ages = [3,4,6,7,15]\n",
    "# additional_ages = [5]\n",
    "for age in additional_ages:\n",
    "    p_name = '05,13,{:02d}'.format(age)\n",
    "    tmp_ages = (2 / 12, 4 / 12, 6 / 12, 1, 5, 13, age)\n",
    "    tmp_policy = init_policy(p_name, vax_ages=tmp_ages)\n",
    "    policies.append(tmp_policy)\n",
    "# Create the simulation\n",
    "\n",
    "\n",
    "# # dynamic_add_ages = [5]\n",
    "# # for age in dynamic_add_ages:\n",
    "# #     for mod_year in range(4):\n",
    "# #         p_name = 'DYNAMIC7_{:02d}_{:1d}'.format(age, mod_year)\n",
    "# #         tmp_ages = (2 / 12, 4 / 12, 6 / 12, 1, 7, 13)\n",
    "# #         tmp_policy = init_policy(p_name, vax_ages=tmp_ages, mod_year=mod_year, dynamic=age)\n",
    "# #         policies.append(tmp_policy)\n",
    "        \n",
    "# Dynamic\n",
    "dynamic_add_ages = [7]\n",
    "for age in dynamic_add_ages:\n",
    "    for mod_year in range(4):\n",
    "        p_name = '05+13 + DYNAMIC {:02d},{:1d}'.format(age, mod_year)\n",
    "        tmp_ages = (2 / 12, 4 / 12, 6 / 12, 1, 5, 13)\n",
    "        tmp_policy = init_policy(p_name, vax_ages=tmp_ages, mod_year=mod_year, dynamic=age)\n",
    "        policies.append(tmp_policy)\n",
    "\n",
    "# Control for dynamic\n",
    "dynamic_add_ages = [7]\n",
    "for age in dynamic_add_ages:\n",
    "    p_name = '05+13 + CONTROL {:02d}'.format(age)\n",
    "    tmp_ages = (2 / 12, 4 / 12, 6 / 12, 1, 5, 13)\n",
    "    tmp_policy = init_policy(p_name, vax_ages=tmp_ages, control=age)\n",
    "    policies.append(tmp_policy)\n",
    "        \n",
    "print (len(policies))\n",
    "simulation = init_simulation(\"1121-rho-70-with-dynamic\", mcmc, policies)\n",
    "simulation.keys()"
   ]
  },
  {
   "cell_type": "markdown",
   "metadata": {},
   "source": [
    "## Load"
   ]
  },
  {
   "cell_type": "code",
   "execution_count": 12,
   "metadata": {
    "ExecuteTime": {
     "end_time": "2017-11-21T16:11:58.484489Z",
     "start_time": "2017-11-21T16:11:56.649583Z"
    }
   },
   "outputs": [
    {
     "name": "stdout",
     "output_type": "stream",
     "text": [
      "rho-60-36k\n",
      "5186\n",
      "mcmc_v2_0\n",
      "28880\n",
      "10000\n"
     ]
    }
   ],
   "source": [
    "#load simulation\n",
    "simulation = load_mcmc('./simulations/rho-60-36k.pkl')\n",
    "mcmc = simulation['mcmc']\n",
    "print(simulation['name'])\n",
    "print(len(simulation['p']))\n",
    "print(mcmc['name'])\n",
    "print(len(mcmc['chain']))\n",
    "print(mcmc['tally'])"
   ]
  },
  {
   "cell_type": "markdown",
   "metadata": {
    "ExecuteTime": {
     "end_time": "2017-11-16T18:23:53.050315Z",
     "start_time": "2017-11-16T18:23:52.934239Z"
    }
   },
   "source": [
    "## Prepare"
   ]
  },
  {
   "cell_type": "code",
   "execution_count": 5,
   "metadata": {
    "ExecuteTime": {
     "end_time": "2017-11-21T16:14:52.619328Z",
     "start_time": "2017-11-21T16:14:52.336135Z"
    },
    "collapsed": true
   },
   "outputs": [],
   "source": [
    "# Distributions\n",
    "dists = mcmc['dists']\n",
    "\n",
    "# Times\n",
    "r_start = mcmc['start']\n",
    "r_end = mcmc['end']\n",
    "step = 1 / N\n",
    "\n",
    "# Data\n",
    "data_M, months = mcmc['datax'], mcmc['datay']\n",
    "# data2, data2n, years = cases_yearly()\n",
    "state_0 = mcmc['state_0']"
   ]
  },
  {
   "cell_type": "markdown",
   "metadata": {},
   "source": [
    "# SIMULATE"
   ]
  },
  {
   "cell_type": "code",
   "execution_count": 10,
   "metadata": {
    "ExecuteTime": {
     "end_time": "2017-11-22T02:14:20.878354Z",
     "start_time": "2017-11-22T00:25:54.477017Z"
    },
    "scrolled": true
   },
   "outputs": [
    {
     "name": "stdout",
     "output_type": "stream",
     "text": [
      "L 2051\n",
      "\n"
     ]
    }
   ],
   "source": [
    "simulate_future(simulation, 1000)"
   ]
  },
  {
   "cell_type": "code",
   "execution_count": 10,
   "metadata": {
    "ExecuteTime": {
     "end_time": "2017-11-18T15:14:32.409047Z",
     "start_time": "2017-11-18T15:14:29.017797Z"
    }
   },
   "outputs": [
    {
     "data": {
      "text/plain": [
       "'rho-60-36k'"
      ]
     },
     "execution_count": 10,
     "metadata": {},
     "output_type": "execute_result"
    }
   ],
   "source": [
    "# Save simulation\n",
    "# save_mcmc(simulation, './simulations/')"
   ]
  }
 ],
 "metadata": {
  "anaconda-cloud": {},
  "kernelspec": {
   "display_name": "Python [default]",
   "language": "python",
   "name": "python3"
  },
  "language_info": {
   "codemirror_mode": {
    "name": "ipython",
    "version": 3
   },
   "file_extension": ".py",
   "mimetype": "text/x-python",
   "name": "python",
   "nbconvert_exporter": "python",
   "pygments_lexer": "ipython3",
   "version": "3.5.2"
  },
  "toc": {
   "colors": {
    "hover_highlight": "#DAA520",
    "navigate_num": "#000000",
    "navigate_text": "#333333",
    "running_highlight": "#FF0000",
    "selected_highlight": "#FFD700",
    "sidebar_border": "#EEEEEE",
    "wrapper_background": "#FFFFFF"
   },
   "moveMenuLeft": true,
   "nav_menu": {
    "height": "210px",
    "width": "252px"
   },
   "navigate_menu": true,
   "number_sections": true,
   "sideBar": true,
   "threshold": 4,
   "toc_cell": false,
   "toc_position": {
    "height": "853px",
    "left": "0px",
    "right": "1708px",
    "top": "106px",
    "width": "212px"
   },
   "toc_section_display": "block",
   "toc_window_display": true,
   "widenNotebook": false
  }
 },
 "nbformat": 4,
 "nbformat_minor": 1
}
