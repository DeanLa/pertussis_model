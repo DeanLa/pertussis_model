{
 "cells": [
  {
   "cell_type": "code",
   "execution_count": 1,
   "metadata": {
    "ExecuteTime": {
     "end_time": "2018-02-18T21:42:07.572182Z",
     "start_time": "2018-02-18T21:42:01.412337Z"
    },
    "collapsed": true
   },
   "outputs": [],
   "source": [
    "import numpy as np\n",
    "import matplotlib.pyplot as plt\n",
    "from scipy.stats import gaussian_kde as kde\n",
    "# from scipy.stats import norm, uniform, multivariate_normal as multinorm, norm\n",
    "# from tqdm import tqdm\n",
    "import seaborn as sns\n",
    "%load_ext autoreload\n",
    "%autoreload 2\n",
    "%matplotlib inline\n",
    "np.set_printoptions(edgeitems=10, linewidth=120, suppress=True, precision=8)\n",
    "\n",
    "from pertussis import *\n",
    "logger.setLevel(logging.INFO)"
   ]
  },
  {
   "cell_type": "markdown",
   "metadata": {},
   "source": [
    "# Make Simulation\n"
   ]
  },
  {
   "cell_type": "markdown",
   "metadata": {},
   "source": [
    "## Init"
   ]
  },
  {
   "cell_type": "code",
   "execution_count": 4,
   "metadata": {
    "ExecuteTime": {
     "end_time": "2018-02-18T21:43:42.586336Z",
     "start_time": "2018-02-18T21:43:41.670563Z"
    }
   },
   "outputs": [
    {
     "name": "stdout",
     "output_type": "stream",
     "text": [
      "mcmc_v2_0 :  36960\n",
      "10000\n"
     ]
    }
   ],
   "source": [
    "# Load MCMC\n",
    "mcmc = load_mcmc('./chains/mcmc_imoh.pkl')\n",
    "print (mcmc['name'],': ',len(mcmc['chain']))\n",
    "print (mcmc['tally'])\n",
    "names = mcmc['names']"
   ]
  },
  {
   "cell_type": "markdown",
   "metadata": {},
   "source": [
    "### Create subsets with effective sample size"
   ]
  },
  {
   "cell_type": "code",
   "execution_count": 5,
   "metadata": {
    "ExecuteTime": {
     "end_time": "2018-02-18T21:43:52.205469Z",
     "start_time": "2018-02-18T21:43:52.058372Z"
    }
   },
   "outputs": [
    {
     "name": "stdout",
     "output_type": "stream",
     "text": [
      "(26960, 4)\n",
      "Effective sample size: [ 1735.3873  1782.1322  1647.7848  1916.9074]\n",
      "(1685,)\n",
      "Subset length: 1684\n"
     ]
    }
   ],
   "source": [
    "# Take Subsets\n",
    "take_subsets(mcmc)"
   ]
  },
  {
   "cell_type": "markdown",
   "metadata": {},
   "source": [
    "### Create Policies"
   ]
  },
  {
   "cell_type": "code",
   "execution_count": 10,
   "metadata": {
    "ExecuteTime": {
     "end_time": "2018-02-18T22:17:57.167483Z",
     "start_time": "2018-02-18T22:17:56.990367Z"
    }
   },
   "outputs": [
    {
     "name": "stdout",
     "output_type": "stream",
     "text": [
      "11\n"
     ]
    },
    {
     "data": {
      "text/plain": [
       "dict_keys(['data_sick', 'subset_pick', 'start', 'data_hospital', 'name', 'pregnant_coverage', 'dist', 'policies', 'n_policies', 'mcmc', 'end', 'p'])"
      ]
     },
     "execution_count": 10,
     "metadata": {},
     "output_type": "execute_result"
    }
   ],
   "source": [
    "# Create Policies\n",
    "default = init_policy('default')\n",
    "# everybody = init_policy('everybody', vax_ages=a_l)\n",
    "# no_one = init_policy('no_one', vax_ages=[])\n",
    "\n",
    "# possible_ages = [5,6,7,8,9,10,11,12,13,15,18]\n",
    "\n",
    "policies = [default]#, everybody, no_one]\n",
    "\n",
    "# Remove\n",
    "# only_age = [5,6,7,10,13]\n",
    "only_age = [2,3,4,5,6,7,12]\n",
    "for age in only_age:\n",
    "    p_name = '{:02d}'.format(age+1)\n",
    "    tmp_ages = (a_l[0], a_l[1], a_l[2], a_l[5], age)\n",
    "    tmp_policy = init_policy(p_name, vax_ages=tmp_ages)\n",
    "    policies.append(tmp_policy)\n",
    "    \n",
    "# Shift\n",
    "possible_ages = [4,5,7]\n",
    "# possible_ages = [5,7,13]\n",
    "for i in range(len(possible_ages)):\n",
    "    for j in range(i):\n",
    "        \n",
    "\n",
    "        agej, agei = possible_ages[j],possible_ages[i]\n",
    "        if (agej == 6) and (agei == 12): continue\n",
    "        p_name = '{:02d},{:02d}'.format(agej+1,agei+1)\n",
    "        tmp_ages = (a_l[0], a_l[1], a_l[2], a_l[5], agej, agei)\n",
    "        tmp_policy = init_policy(p_name, vax_ages=tmp_ages)\n",
    "        policies.append(tmp_policy)\n",
    "\n",
    "# # Add\n",
    "# additional_ages = [4,6,7,13]\n",
    "# # additional_ages = [5]\n",
    "# for age in additional_ages:\n",
    "#     p_name = '05,13,{:02d}'.format(age+1)\n",
    "#     tmp_ages = (a_l[0], a_l[1], a_l[2], a_l[5], 4, 12, age)\n",
    "#     tmp_policy = init_policy(p_name, vax_ages=tmp_ages)\n",
    "#     policies.append(tmp_policy)\n",
    "# Create the simulation\n",
    "\n",
    "\n",
    "# dynamic_add_ages = [5]\n",
    "# for age in dynamic_add_ages:\n",
    "#     for mod_year in range(4):\n",
    "#         p_name = 'DYNAMIC7_{:02d}_{:1d}'.format(age, mod_year)\n",
    "#         tmp_ages = (2 / 12, 4 / 12, 6 / 12, 1, 7, 13)\n",
    "#         tmp_policy = init_policy(p_name, vax_ages=tmp_ages, mod_year=mod_year, dynamic=age)\n",
    "#         policies.append(tmp_policy)\n",
    "        \n",
    "# Dynamic\n",
    "# dynamic_add_ages = [7]\n",
    "# for age in dynamic_add_ages:\n",
    "#     for mod_year in range(4):\n",
    "#         p_name = '05+13 + DYNAMIC {:02d},{:1d}'.format(age, mod_year)\n",
    "#         tmp_ages = (2 / 12, 4 / 12, 6 / 12, 1, 5, 13)\n",
    "#         tmp_policy = init_policy(p_name, vax_ages=tmp_ages, mod_year=mod_year, dynamic=age)\n",
    "#         policies.append(tmp_policy)\n",
    "\n",
    "# # Control for dynamic\n",
    "# dynamic_add_ages = [7]\n",
    "# for age in dynamic_add_ages:\n",
    "#     p_name = '05+13 + CONTROL {:02d}'.format(age)\n",
    "#     tmp_ages = (2 / 12, 4 / 12, 6 / 12, 1, 5, 13)\n",
    "#     tmp_policy = init_policy(p_name, vax_ages=tmp_ages, control=age)\n",
    "#     policies.append(tmp_policy)\n",
    "        \n",
    "print (len(policies))\n",
    "simulation = init_simulation(\"1418-imoh-one-vaccine_b\", mcmc, policies)\n",
    "simulation.keys()\n",
    "# [p['name'] for p in policies]"
   ]
  },
  {
   "cell_type": "markdown",
   "metadata": {},
   "source": [
    "## Load"
   ]
  },
  {
   "cell_type": "code",
   "execution_count": 14,
   "metadata": {
    "ExecuteTime": {
     "end_time": "2017-11-29T17:52:58.558519Z",
     "start_time": "2017-11-29T17:52:57.501120Z"
    }
   },
   "outputs": [
    {
     "name": "stdout",
     "output_type": "stream",
     "text": [
      "1128-rho-50-new\n",
      "141\n",
      "mcmc_v2_0\n",
      "36960\n",
      "10000\n"
     ]
    }
   ],
   "source": [
    "#load simulation\n",
    "# simulation = load_mcmc('./simulations/1128-rho-50-new.pkl')\n",
    "simulation = load_mcmc('./backup/.-simulations-1128-rho-50-new.pkl')\n",
    "mcmc = simulation['mcmc']\n",
    "print(simulation['name'])\n",
    "print(len(simulation['p']))\n",
    "print(mcmc['name'])\n",
    "print(len(mcmc['chain']))\n",
    "print(mcmc['tally'])"
   ]
  },
  {
   "cell_type": "markdown",
   "metadata": {},
   "source": [
    "# SIMULATE"
   ]
  },
  {
   "cell_type": "code",
   "execution_count": 11,
   "metadata": {
    "ExecuteTime": {
     "end_time": "2018-02-18T22:39:44.111980Z",
     "start_time": "2018-02-18T22:18:01.597495Z"
    },
    "scrolled": true
   },
   "outputs": [
    {
     "name": "stdout",
     "output_type": "stream",
     "text": [
      "L 1684\n",
      "\n"
     ]
    }
   ],
   "source": [
    "simulate_future(simulation, 500)"
   ]
  },
  {
   "cell_type": "code",
   "execution_count": 10,
   "metadata": {
    "ExecuteTime": {
     "end_time": "2017-11-18T15:14:32.409047Z",
     "start_time": "2017-11-18T15:14:29.017797Z"
    }
   },
   "outputs": [
    {
     "data": {
      "text/plain": [
       "'rho-60-36k'"
      ]
     },
     "execution_count": 10,
     "metadata": {},
     "output_type": "execute_result"
    }
   ],
   "source": [
    "# Save simulation\n",
    "# save_mcmc(simulation, './simulations/')"
   ]
  }
 ],
 "metadata": {
  "anaconda-cloud": {},
  "kernelspec": {
   "display_name": "Python [default]",
   "language": "python",
   "name": "python3"
  },
  "language_info": {
   "codemirror_mode": {
    "name": "ipython",
    "version": 3
   },
   "file_extension": ".py",
   "mimetype": "text/x-python",
   "name": "python",
   "nbconvert_exporter": "python",
   "pygments_lexer": "ipython3",
   "version": "3.5.2"
  },
  "toc": {
   "colors": {
    "hover_highlight": "#DAA520",
    "navigate_num": "#000000",
    "navigate_text": "#333333",
    "running_highlight": "#FF0000",
    "selected_highlight": "#FFD700",
    "sidebar_border": "#EEEEEE",
    "wrapper_background": "#FFFFFF"
   },
   "moveMenuLeft": true,
   "nav_menu": {
    "height": "210px",
    "width": "252px"
   },
   "navigate_menu": true,
   "number_sections": true,
   "sideBar": true,
   "threshold": 4,
   "toc_cell": false,
   "toc_position": {
    "height": "853px",
    "left": "0px",
    "right": "1708px",
    "top": "106px",
    "width": "212px"
   },
   "toc_section_display": "block",
   "toc_window_display": true,
   "widenNotebook": false
  },
  "widgets": {
   "state": {
    "ba4d4b31d98e43d8850d66e6e29f6cda": {
     "views": [
      {
       "cell_index": 11
      }
     ]
    }
   },
   "version": "1.2.0"
  }
 },
 "nbformat": 4,
 "nbformat_minor": 1
}
