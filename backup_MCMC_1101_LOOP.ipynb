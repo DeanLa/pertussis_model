{
 "cells": [
  {
   "cell_type": "code",
   "execution_count": 1,
   "metadata": {
    "ExecuteTime": {
     "end_time": "2017-11-02T18:21:54.810798Z",
     "start_time": "2017-11-02T18:21:52.799322Z"
    },
    "init_cell": true
   },
   "outputs": [
    {
     "name": "stdout",
     "output_type": "stream",
     "text": [
      "2017-11-02-18-21-52.log\n",
      "(192,) (3, 192)\n"
     ]
    }
   ],
   "source": [
    "from pertussis import *\n",
    "logger.setLevel(logging.INFO)\n",
    "%load_ext autoreload\n",
    "%autoreload 2\n",
    "# Initial\n",
    "r_start = 1929\n",
    "r_end = 2014\n",
    "step = 1 / N\n",
    "\n",
    "# Data\n",
    "data_M, months = cases_monthly()\n",
    "# data_M = ma.array(data_M)\n",
    "# data_M[data_M > 150] = 150 #ma.masked\n",
    "state_0 = collect_state0()"
   ]
  },
  {
   "cell_type": "markdown",
   "metadata": {},
   "source": [
    "# Make Model"
   ]
  },
  {
   "cell_type": "markdown",
   "metadata": {
    "scrolled": false
   },
   "source": [
    "## Distributions"
   ]
  },
  {
   "cell_type": "code",
   "execution_count": 2,
   "metadata": {
    "ExecuteTime": {
     "end_time": "2017-11-02T18:21:54.908862Z",
     "start_time": "2017-11-02T18:21:54.811799Z"
    },
    "collapsed": true,
    "init_cell": true
   },
   "outputs": [],
   "source": [
    "dist_om = uniform(3.5,1)\n",
    "dist_phi = uniform(0, 2 * np.pi)\n",
    "dist_rho = uniform(1, 99)\n",
    "dist_f   = uniform(0.00, 0.5)\n",
    "dist_e   = uniform(0.5,0.5)\n",
    "dists = [dist_om, dist_phi, dist_rho, dist_f, dist_f, dist_f, dist_e]"
   ]
  },
  {
   "cell_type": "markdown",
   "metadata": {},
   "source": [
    "## Build MCMC\n",
    "Init or load"
   ]
  },
  {
   "cell_type": "markdown",
   "metadata": {},
   "source": [
    "### Load"
   ]
  },
  {
   "cell_type": "code",
   "execution_count": 7,
   "metadata": {
    "ExecuteTime": {
     "end_time": "2017-11-02T16:35:21.668709Z",
     "start_time": "2017-11-02T16:35:21.542627Z"
    }
   },
   "outputs": [
    {
     "name": "stdout",
     "output_type": "stream",
     "text": [
      "./chains/1031-4-chains\n"
     ]
    }
   ],
   "source": [
    "# Load\n",
    "del(mcmcs)\n",
    "vers = 'chains/1031-4-chains'\n",
    "# vers = ''\n",
    "print ('./' + vers)\n",
    "mcmcs = [load_mcmc('./' + vers + 'mcmc_{}.pkl'.format(i)) for i in range(3)]\n",
    "mcmcs[1]['active'] = False"
   ]
  },
  {
   "cell_type": "markdown",
   "metadata": {},
   "source": [
    "### Initialize"
   ]
  },
  {
   "cell_type": "code",
   "execution_count": 3,
   "metadata": {
    "ExecuteTime": {
     "end_time": "2017-11-02T18:21:55.012932Z",
     "start_time": "2017-11-02T18:21:54.909863Z"
    },
    "collapsed": true,
    "init_cell": true
   },
   "outputs": [],
   "source": [
    "extra_params = dict (cov = np.diag((0.2, np.pi / 10, 0.2, 5e-6, 5e-6, 5e-6)),\n",
    "                    datax=data_M,\n",
    "                    dists=dists,\n",
    "                    names = ['omega','phi','rho','f1','f2','f3'], \n",
    "                    datay = months,\n",
    "                    active_params = [1,3,4,5],\n",
    "                    sigma = 50)"
   ]
  },
  {
   "cell_type": "code",
   "execution_count": 4,
   "metadata": {
    "ExecuteTime": {
     "end_time": "2017-11-02T18:21:59.318789Z",
     "start_time": "2017-11-02T18:21:55.014932Z"
    },
    "init_cell": true
   },
   "outputs": [
    {
     "name": "stdout",
     "output_type": "stream",
     "text": [
      "[ 1.45    0.0008  0.0004  0.0001] (3.9805, 1.45, 50, 0.0008, 0.0004, 7e-05)\n",
      "[ 3.1416  0.001   0.0013  0.0001] (3.9805, 3.141592653589793, 50, 0.001, 0.00125, 8e-05)\n"
     ]
    }
   ],
   "source": [
    "# Initialize\n",
    "np.random.seed(314)\n",
    "mcmcs = []\n",
    "\n",
    "# Chains\n",
    "om, phi, rho, f1, f2, f3, e =  3.9805, 1.45,  50,   0.0008,   0.0004,   0.00007, 1\n",
    "mcmc0 = init_mcmc('mcmc_0', state_0, r_start, r_end, om, phi, rho, f1, f2, f3,\n",
    "                 **extra_params)\n",
    "mcmcs.append(mcmc0)\n",
    "\n",
    "om, phi, rho, f1, f2, f3, e = 3.9805,   np.pi,  50,   0.0010,   0.00125,   0.00008,   1\n",
    "mcmc1 = init_mcmc('mcmc_1', state_0, r_start, r_end, om, phi, rho, f1, f2, f3, \n",
    "                 **extra_params)\n",
    "mcmcs.append(mcmc1)\n",
    "\n",
    "# om, phi, rho, f1, f2, f3, e =  3.9805, 2.8256, 50,  0.0012, 0.0003, 0.0001, 1\n",
    "# mcmc2 = init_mcmc('mcmc_2', state_0, r_start, r_end, om, phi, rho, f1, f2, f3, \n",
    "#                  **extra_params)\n",
    "# mcmcs.append(mcmc2)\n",
    "\n",
    "# om, phi, rho, f1, f2, f3, e =  3.9805, np.pi / 2, 50,  0.009, 0.0005, 0.00006, 1\n",
    "# mcmc3 = init_mcmc('mcmc_3', state_0, r_start, r_end, om, phi, rho, f1, f2, f3, \n",
    "#                  **extra_params)\n",
    "# mcmcs.append(mcmc3)"
   ]
  },
  {
   "cell_type": "code",
   "execution_count": 6,
   "metadata": {
    "ExecuteTime": {
     "end_time": "2017-10-31T21:38:49.980552Z",
     "start_time": "2017-10-31T21:38:49.891491Z"
    }
   },
   "outputs": [
    {
     "data": {
      "text/plain": [
       "True"
      ]
     },
     "execution_count": 6,
     "metadata": {},
     "output_type": "execute_result"
    }
   ],
   "source": [
    "# for mc in mcmcs[0:]:\n",
    "#     mc['active'] = True \n",
    "# all([mc['active'] for mc in mcmcs])"
   ]
  },
  {
   "cell_type": "markdown",
   "metadata": {},
   "source": [
    "### Loop"
   ]
  },
  {
   "cell_type": "code",
   "execution_count": 16,
   "metadata": {
    "ExecuteTime": {
     "end_time": "2017-11-02T17:22:01.334307Z",
     "start_time": "2017-11-02T17:22:01.234241Z"
    }
   },
   "outputs": [
    {
     "data": {
      "text/plain": [
       "[(0.5885419136419221, 5000, '45'), (0.5885419136419221, 5000, '45')]"
      ]
     },
     "execution_count": 16,
     "metadata": {},
     "output_type": "execute_result"
    }
   ],
   "source": [
    "n=len(mcmcs)\n",
    "[x for x in zip(n*[np.random.random()],n*[5000],n*['45'])]"
   ]
  },
  {
   "cell_type": "code",
   "execution_count": 14,
   "metadata": {
    "ExecuteTime": {
     "end_time": "2017-11-02T18:18:39.101155Z",
     "start_time": "2017-11-02T18:18:24.252614Z"
    },
    "scrolled": false
   },
   "outputs": [
    {
     "name": "stdout",
     "output_type": "stream",
     "text": [
      "[ 20.  20.  20.  20.  20.  20.  20.  20.  20.  20.   1.]\n",
      "WTF\n",
      "finish 1 super\n"
     ]
    },
    {
     "ename": "IndexError",
     "evalue": "tuple index out of range",
     "output_type": "error",
     "traceback": [
      "\u001b[0;31m---------------------------------------------------------------------------\u001b[0m",
      "\u001b[0;31mIndexError\u001b[0m                                Traceback (most recent call last)",
      "\u001b[0;32m<ipython-input-14-4f6d9a5b3dd8>\u001b[0m in \u001b[0;36m<module>\u001b[0;34m()\u001b[0m\n\u001b[0;32m----> 1\u001b[0;31m \u001b[0msample\u001b[0m\u001b[1;33m(\u001b[0m\u001b[0mmcmcs\u001b[0m\u001b[1;33m,\u001b[0m \u001b[0miterations\u001b[0m \u001b[1;33m=\u001b[0m \u001b[1;36m201\u001b[0m\u001b[1;33m,\u001b[0m \u001b[0mrecalculate\u001b[0m\u001b[1;33m=\u001b[0m\u001b[1;36m20\u001b[0m\u001b[1;33m,\u001b[0m \u001b[0msd_stop_after\u001b[0m\u001b[1;33m=\u001b[0m\u001b[1;36m5000\u001b[0m\u001b[1;33m,\u001b[0m \u001b[0mscaling_stop_after\u001b[0m\u001b[1;33m=\u001b[0m\u001b[1;36m5000\u001b[0m\u001b[1;33m)\u001b[0m\u001b[1;33m\u001b[0m\u001b[0m\n\u001b[0m",
      "\u001b[0;32mC:\\Users\\deanl\\Dropbox\\Dean\\_Study\\_Thesis\\1code\\pertussis_project\\pertussis\\sampling.py\u001b[0m in \u001b[0;36msample\u001b[0;34m(mcmcs, iterations, recalculate, sd_stop_after, scaling_stop_after)\u001b[0m\n\u001b[1;32m    144\u001b[0m         \u001b[0mprint\u001b[0m \u001b[1;33m(\u001b[0m\u001b[1;34m\"finish 1 super\"\u001b[0m\u001b[1;33m)\u001b[0m\u001b[1;33m\u001b[0m\u001b[0m\n\u001b[1;32m    145\u001b[0m         \u001b[1;32mif\u001b[0m \u001b[0msum\u001b[0m\u001b[1;33m(\u001b[0m\u001b[1;33m[\u001b[0m\u001b[0mmc\u001b[0m\u001b[1;33m[\u001b[0m\u001b[1;34m'active'\u001b[0m\u001b[1;33m]\u001b[0m \u001b[1;32mfor\u001b[0m \u001b[0mmc\u001b[0m \u001b[1;32min\u001b[0m \u001b[0mmcmcs\u001b[0m\u001b[1;33m]\u001b[0m\u001b[1;33m)\u001b[0m \u001b[1;33m>\u001b[0m \u001b[1;36m1\u001b[0m\u001b[1;33m:\u001b[0m\u001b[1;33m\u001b[0m\u001b[0m\n\u001b[0;32m--> 146\u001b[0;31m             \u001b[0mgelman_rubin_test\u001b[0m\u001b[1;33m(\u001b[0m\u001b[0mmcmcs\u001b[0m\u001b[1;33m)\u001b[0m\u001b[1;33m\u001b[0m\u001b[0m\n\u001b[0m\u001b[1;32m    147\u001b[0m \u001b[1;33m\u001b[0m\u001b[0m\n\u001b[1;32m    148\u001b[0m \u001b[1;33m\u001b[0m\u001b[0m\n",
      "\u001b[0;32mC:\\Users\\deanl\\Dropbox\\Dean\\_Study\\_Thesis\\1code\\pertussis_project\\pertussis\\sampling.py\u001b[0m in \u001b[0;36mgelman_rubin_test\u001b[0;34m(mcmcs, start_after)\u001b[0m\n\u001b[1;32m    148\u001b[0m \u001b[1;33m\u001b[0m\u001b[0m\n\u001b[1;32m    149\u001b[0m \u001b[1;32mdef\u001b[0m \u001b[0mgelman_rubin_test\u001b[0m\u001b[1;33m(\u001b[0m\u001b[0mmcmcs\u001b[0m\u001b[1;33m,\u001b[0m \u001b[0mstart_after\u001b[0m\u001b[1;33m=\u001b[0m\u001b[1;36m1000\u001b[0m\u001b[1;33m)\u001b[0m\u001b[1;33m:\u001b[0m\u001b[1;33m\u001b[0m\u001b[0m\n\u001b[0;32m--> 150\u001b[0;31m     \u001b[0mgr_curr\u001b[0m \u001b[1;33m=\u001b[0m \u001b[0mgelman_rubin\u001b[0m\u001b[1;33m(\u001b[0m\u001b[0mmake_chains\u001b[0m\u001b[1;33m(\u001b[0m\u001b[1;33m[\u001b[0m\u001b[0mmc\u001b[0m \u001b[1;32mfor\u001b[0m \u001b[0mmc\u001b[0m \u001b[1;32min\u001b[0m \u001b[0mmcmcs\u001b[0m \u001b[1;32mif\u001b[0m \u001b[0mmc\u001b[0m\u001b[1;33m[\u001b[0m\u001b[1;34m'active'\u001b[0m\u001b[1;33m]\u001b[0m\u001b[1;33m]\u001b[0m\u001b[1;33m)\u001b[0m\u001b[1;33m)\u001b[0m\u001b[1;33m\u001b[0m\u001b[0m\n\u001b[0m\u001b[1;32m    151\u001b[0m     \u001b[0mmcmcs\u001b[0m\u001b[1;33m[\u001b[0m\u001b[1;36m0\u001b[0m\u001b[1;33m]\u001b[0m\u001b[1;33m[\u001b[0m\u001b[1;34m'gelman_rubin'\u001b[0m\u001b[1;33m]\u001b[0m \u001b[1;33m=\u001b[0m \u001b[0mnp\u001b[0m\u001b[1;33m.\u001b[0m\u001b[0mvstack\u001b[0m\u001b[1;33m(\u001b[0m\u001b[1;33m(\u001b[0m\u001b[0mmcmcs\u001b[0m\u001b[1;33m[\u001b[0m\u001b[1;36m0\u001b[0m\u001b[1;33m]\u001b[0m\u001b[1;33m[\u001b[0m\u001b[1;34m'gelman_rubin'\u001b[0m\u001b[1;33m]\u001b[0m\u001b[1;33m,\u001b[0m \u001b[0mgr_curr\u001b[0m\u001b[1;33m)\u001b[0m\u001b[1;33m)\u001b[0m\u001b[1;33m\u001b[0m\u001b[0m\n\u001b[1;32m    152\u001b[0m     \u001b[1;32mif\u001b[0m \u001b[0mlen\u001b[0m\u001b[1;33m(\u001b[0m\u001b[0mmcmcs\u001b[0m\u001b[1;33m[\u001b[0m\u001b[1;36m0\u001b[0m\u001b[1;33m]\u001b[0m\u001b[1;33m[\u001b[0m\u001b[1;34m'chain'\u001b[0m\u001b[1;33m]\u001b[0m\u001b[1;33m)\u001b[0m \u001b[1;33m>\u001b[0m \u001b[0mstart_after\u001b[0m\u001b[1;33m:\u001b[0m\u001b[1;33m\u001b[0m\u001b[0m\n",
      "\u001b[0;32mC:\\Users\\deanl\\Dropbox\\Dean\\_Study\\_Thesis\\1code\\pertussis_project\\pertussis\\funcs.py\u001b[0m in \u001b[0;36mgelman_rubin\u001b[0;34m(chains)\u001b[0m\n\u001b[1;32m    171\u001b[0m     \u001b[0mM\u001b[0m \u001b[1;33m=\u001b[0m \u001b[0mlen\u001b[0m\u001b[1;33m(\u001b[0m\u001b[0mchains\u001b[0m\u001b[1;33m)\u001b[0m\u001b[1;33m\u001b[0m\u001b[0m\n\u001b[1;32m    172\u001b[0m     \u001b[1;32massert\u001b[0m \u001b[0mlen\u001b[0m\u001b[1;33m(\u001b[0m\u001b[0mchains\u001b[0m\u001b[1;33m)\u001b[0m \u001b[1;33m>=\u001b[0m \u001b[1;36m2\u001b[0m\u001b[1;33m,\u001b[0m \u001b[1;34m\"test for less than 2 is redundunt\"\u001b[0m\u001b[1;33m\u001b[0m\u001b[0m\n\u001b[0;32m--> 173\u001b[0;31m     \u001b[0mparams\u001b[0m \u001b[1;33m=\u001b[0m \u001b[0mchains\u001b[0m\u001b[1;33m[\u001b[0m\u001b[1;36m0\u001b[0m\u001b[1;33m]\u001b[0m\u001b[1;33m.\u001b[0m\u001b[0mshape\u001b[0m\u001b[1;33m[\u001b[0m\u001b[1;36m1\u001b[0m\u001b[1;33m]\u001b[0m  \u001b[1;31m# Asumming chains have equal params\u001b[0m\u001b[1;33m\u001b[0m\u001b[0m\n\u001b[0m\u001b[1;32m    174\u001b[0m \u001b[1;33m\u001b[0m\u001b[0m\n\u001b[1;32m    175\u001b[0m     \u001b[0mN\u001b[0m \u001b[1;33m=\u001b[0m \u001b[0mlen\u001b[0m\u001b[1;33m(\u001b[0m\u001b[0mchains\u001b[0m\u001b[1;33m[\u001b[0m\u001b[1;36m0\u001b[0m\u001b[1;33m]\u001b[0m\u001b[1;33m[\u001b[0m\u001b[1;33m:\u001b[0m\u001b[1;33m,\u001b[0m \u001b[1;36m0\u001b[0m\u001b[1;33m]\u001b[0m\u001b[1;33m)\u001b[0m  \u001b[1;31m# Asumming chains have equal length\u001b[0m\u001b[1;33m\u001b[0m\u001b[0m\n",
      "\u001b[0;31mIndexError\u001b[0m: tuple index out of range"
     ]
    }
   ],
   "source": [
    "sample(mcmcs, iterations = 201, recalculate=20, sd_stop_after=5000, scaling_stop_after=5000)"
   ]
  },
  {
   "cell_type": "code",
   "execution_count": 11,
   "metadata": {
    "ExecuteTime": {
     "end_time": "2017-11-02T17:38:50.655683Z",
     "start_time": "2017-11-02T17:38:50.552373Z"
    }
   },
   "outputs": [],
   "source": [
    "from functools import partial"
   ]
  },
  {
   "cell_type": "code",
   "execution_count": null,
   "metadata": {
    "collapsed": true
   },
   "outputs": [],
   "source": [
    "partial()"
   ]
  }
 ],
 "metadata": {
  "anaconda-cloud": {},
  "celltoolbar": "Initialization Cell",
  "kernelspec": {
   "display_name": "Python [default]",
   "language": "python",
   "name": "python3"
  },
  "language_info": {
   "codemirror_mode": {
    "name": "ipython",
    "version": 3
   },
   "file_extension": ".py",
   "mimetype": "text/x-python",
   "name": "python",
   "nbconvert_exporter": "python",
   "pygments_lexer": "ipython3",
   "version": "3.5.2"
  },
  "toc": {
   "colors": {
    "hover_highlight": "#DAA520",
    "navigate_num": "#000000",
    "navigate_text": "#333333",
    "running_highlight": "#FF0000",
    "selected_highlight": "#FFD700",
    "sidebar_border": "#EEEEEE",
    "wrapper_background": "#FFFFFF"
   },
   "moveMenuLeft": true,
   "nav_menu": {
    "height": "120px",
    "width": "252px"
   },
   "navigate_menu": true,
   "number_sections": true,
   "sideBar": true,
   "threshold": 4,
   "toc_cell": false,
   "toc_position": {
    "height": "853px",
    "left": "0px",
    "right": "1154px",
    "top": "106px",
    "width": "212px"
   },
   "toc_section_display": "block",
   "toc_window_display": true,
   "widenNotebook": false
  },
  "widgets": {
   "state": {
    "12ac049e17cc4d76940c1a55d548fac9": {
     "views": [
      {
       "cell_index": 12
      }
     ]
    },
    "19e4aa62d59847a0bc1063de06a4e86e": {
     "views": [
      {
       "cell_index": 12
      }
     ]
    },
    "1a5e6dd25a8040a3935b7b26c13f420b": {
     "views": [
      {
       "cell_index": 12
      }
     ]
    },
    "2149d1d2e7714f63b9540e87f327f262": {
     "views": [
      {
       "cell_index": 12
      }
     ]
    },
    "2d9fde93024f4ed2ad7bb8dbe2899da6": {
     "views": [
      {
       "cell_index": 12
      }
     ]
    },
    "2faaa658ad2a4cddb08bdf79c99de095": {
     "views": [
      {
       "cell_index": 12
      }
     ]
    },
    "6f588ffc412e4df78fa3d52202d76c03": {
     "views": [
      {
       "cell_index": 12
      }
     ]
    },
    "6f95d572ffdd422e97106a8c97fe1c68": {
     "views": [
      {
       "cell_index": 12
      }
     ]
    },
    "7396a2e68dd24caaa5bfcedfa9252d28": {
     "views": [
      {
       "cell_index": 12
      }
     ]
    },
    "7fe1ba542a7b442ea99ab0bd1539c1cf": {
     "views": [
      {
       "cell_index": 12
      }
     ]
    },
    "80fbf1d455ec40a6ba34a279b1020bbf": {
     "views": [
      {
       "cell_index": 12
      }
     ]
    },
    "94bb290a3f04405e90d67f8a64007b79": {
     "views": [
      {
       "cell_index": 12
      }
     ]
    },
    "9887f5c45d5f4544b17bd5ce0ae58327": {
     "views": [
      {
       "cell_index": 12
      }
     ]
    },
    "a4e38ecf88c4475db7097052a65d8dff": {
     "views": [
      {
       "cell_index": 12
      }
     ]
    },
    "af5aa54467244b46b48c5a0dae74092d": {
     "views": [
      {
       "cell_index": 12
      }
     ]
    },
    "bbcaed32d4a14072814d8f29eb576bf6": {
     "views": [
      {
       "cell_index": 12
      }
     ]
    },
    "c0cee3fcf86a44d48cc0f69ce22c9cc5": {
     "views": [
      {
       "cell_index": 12
      }
     ]
    },
    "c757001141aa4dac908744a81ead29b2": {
     "views": [
      {
       "cell_index": 12
      }
     ]
    },
    "cca939341d6d4d449466b589d1ddf60d": {
     "views": [
      {
       "cell_index": 12
      }
     ]
    },
    "d76d8a69201a49239280c2b1fe0dc9e6": {
     "views": [
      {
       "cell_index": 12
      }
     ]
    },
    "dbcb3d46bbf143a7a5d462e57a41aeba": {
     "views": [
      {
       "cell_index": 12
      }
     ]
    },
    "dfcd5b7679d1473b916671435590ad09": {
     "views": [
      {
       "cell_index": 12
      }
     ]
    },
    "ea5608bd13ee4fcda3fcc09774339886": {
     "views": [
      {
       "cell_index": 12
      }
     ]
    },
    "f899f25de3464fcfa8329a1a3ab12175": {
     "views": [
      {
       "cell_index": 12
      }
     ]
    },
    "fa38e12b20934a48b5b9c4584455e69a": {
     "views": [
      {
       "cell_index": 12
      }
     ]
    },
    "fde371be2656491f974581cfa7106a49": {
     "views": [
      {
       "cell_index": 12
      }
     ]
    },
    "fe65275fc7bc4d00a3d58aae33795d5e": {
     "views": [
      {
       "cell_index": 12
      }
     ]
    }
   },
   "version": "1.2.0"
  }
 },
 "nbformat": 4,
 "nbformat_minor": 1
}
